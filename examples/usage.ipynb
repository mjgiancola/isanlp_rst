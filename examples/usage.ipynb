{
 "cells": [
  {
   "cell_type": "code",
   "execution_count": null,
   "metadata": {
    "pycharm": {
     "name": "#%%\n"
    }
   },
   "outputs": [],
   "source": [
    "# isanlp >= 0.0.7\n",
    "! pip install -U git+https://github.com/IINemo/isanlp.git"
   ]
  },
  {
   "cell_type": "code",
   "execution_count": 1,
   "metadata": {
    "pycharm": {
     "name": "#%%\n"
    }
   },
   "outputs": [],
   "source": [
    "from isanlp import PipelineCommon\n",
    "from isanlp.processor_razdel import ProcessorRazdel\n",
    "from isanlp.processor_remote import ProcessorRemote\n",
    "from isanlp.ru.processor_mystem import ProcessorMystem\n",
    "from isanlp.ru.converter_mystem_to_ud import ConverterMystemToUd\n",
    "import razdel\n",
    "\n",
    "# put the address here ->\n",
    "address_syntax = ('', 3134)\n",
    "address_rst = ('', 3335)\n",
    "\n",
    "# Highly recommended to pre-tokenize texts\n",
    "def tokenize(text):\n",
    "    \"\"\" Tokenize text, but keep paragraph boundaries. \"\"\"\n",
    "\n",
    "    while '\\n\\n' in text:\n",
    "        text = text.replace('\\n\\n', '\\n')\n",
    "    result = []\n",
    "    for paragraph in text.split('\\n'):\n",
    "        result.append(' '.join([tok.text for tok in razdel.tokenize(paragraph)]))\n",
    "    return '\\n'.join(result).strip()\n",
    "\n",
    "ppl = PipelineCommon([\n",
    "    (ProcessorRazdel(), ['text'],\n",
    "     {'tokens': 'tokens',\n",
    "      'sentences': 'sentences'}),\n",
    "    (ProcessorRemote(address_syntax[0], address_syntax[1], '0'),\n",
    "     ['tokens', 'sentences'],\n",
    "     {'lemma': 'lemma',\n",
    "      'syntax_dep_tree': 'syntax_dep_tree',\n",
    "      'postag': 'ud_postag'}),\n",
    "    (ProcessorMystem(delay_init=False),\n",
    "     ['tokens', 'sentences'],\n",
    "     {'postag': 'postag'}),\n",
    "    (ConverterMystemToUd(),\n",
    "     ['postag'],\n",
    "     {'morph': 'morph',\n",
    "      'postag': 'postag'}),\n",
    "    (ProcessorRemote(address_rst[0], address_rst[1], 'default'),\n",
    "     ['text', 'tokens', 'sentences', 'postag', 'morph', 'lemma', 'syntax_dep_tree'],\n",
    "     {'rst': 'rst'})\n",
    "])"
   ]
  },
  {
   "cell_type": "code",
   "execution_count": 2,
   "metadata": {
    "pycharm": {
     "name": "#%%\n"
    }
   },
   "outputs": [],
   "source": [
    "text = tokenize(\"Парацетамол (известный в Соединённых Штатах как ацетаминофен) – одно из самых распространённых \"\n",
    "        \"лекарств в мире. Из-за своей безопасности он является предпочтительным препаратом для снятия жара \"\n",
    "        \"и болевых синдромов. Однако 10 лет назад была высказана гипотеза о том, что использование \"\n",
    "        \"парацетамола может увеличить риск развития астмы. Высказывалось предположение, что переход в США \"\n",
    "        \"в 80-х гг. с применения аспирина на парацетамол среди детей мог стать причиной увеличения числа детей, \"\n",
    "        \"заболевших астмой в течение данного периода.\")"
   ]
  },
  {
   "cell_type": "code",
   "execution_count": 3,
   "metadata": {
    "pycharm": {
     "name": "#%%\n"
    }
   },
   "outputs": [
    {
     "name": "stdout",
     "output_type": "stream",
     "text": [
      "CPU times: user 26 ms, sys: 66 µs, total: 26.1 ms\n",
      "Wall time: 3.28 s\n"
     ]
    }
   ],
   "source": [
    "%%time\n",
    "\n",
    "result = ppl(text)"
   ]
  },
  {
   "cell_type": "code",
   "execution_count": 4,
   "metadata": {
    "pycharm": {
     "name": "#%%\n"
    }
   },
   "outputs": [
    {
     "data": {
      "text/plain": [
       "[<isanlp.annotation_rst.DiscourseUnit at 0x7fcb8011ab10>]"
      ]
     },
     "execution_count": 4,
     "metadata": {},
     "output_type": "execute_result"
    }
   ],
   "source": [
    "result['rst']"
   ]
  },
  {
   "cell_type": "code",
   "execution_count": 6,
   "metadata": {
    "scrolled": true,
    "pycharm": {
     "name": "#%%\n"
    }
   },
   "outputs": [
    {
     "name": "stdout",
     "output_type": "stream",
     "text": [
      "id: 22\n",
      "text: Парацетамол ( известный в Соединённых Штатах как ацетаминофен ) – одно из самых распространённых лекарств в мире . Из-за своей безопасности он является предпочтительным препаратом для снятия жара и болевых синдромов . Однако 10 лет назад была высказана гипотеза о том , что использование парацетамола может увеличить риск развития астмы . Высказывалось предположение , что переход в США в 80-х гг . с применения аспирина на парацетамол среди детей мог стать причиной увеличения числа детей , заболевших астмой в течение данного периода .\n",
      "proba: 1.0\n",
      "relation: contrast\n",
      "nuclearity: NN\n",
      "left: Парацетамол ( известный в Соединённых Штатах как ацетаминофен ) – одно из самых распространённых лекарств в мире . Из-за своей безопасности он является предпочтительным препаратом для снятия жара и болевых синдромов .\n",
      "right: Однако 10 лет назад была высказана гипотеза о том , что использование парацетамола может увеличить риск развития астмы . Высказывалось предположение , что переход в США в 80-х гг . с применения аспирина на парацетамол среди детей мог стать причиной увеличения числа детей , заболевших астмой в течение данного периода .\n",
      "start: 0\n",
      "end: 537\n"
     ]
    }
   ],
   "source": [
    "print(result['rst'][0])"
   ]
  },
  {
   "cell_type": "code",
   "execution_count": 7,
   "metadata": {
    "pycharm": {
     "name": "#%%\n"
    }
   },
   "outputs": [],
   "source": [
    "def extr_pairs(tree, text):\n",
    "    pp = []\n",
    "    if tree.left:\n",
    "        pp.append([text[tree.left.start:tree.left.end], text[tree.right.start:tree.right.end], tree.relation, tree.nuclearity])\n",
    "        pp += extr_pairs(tree.left, text)\n",
    "        pp += extr_pairs(tree.right, text)\n",
    "    return pp"
   ]
  },
  {
   "cell_type": "code",
   "execution_count": 8,
   "metadata": {
    "pycharm": {
     "name": "#%%\n"
    }
   },
   "outputs": [
    {
     "data": {
      "text/plain": [
       "[['Парацетамол ( известный в Соединённых Штатах как ацетаминофен ) – одно из самых распространённых лекарств в мире . Из-за своей безопасности он является предпочтительным препаратом для снятия жара и болевых синдромов .',\n",
       "  'Однако 10 лет назад была высказана гипотеза о том , что использование парацетамола может увеличить риск развития астмы . Высказывалось предположение , что переход в США в 80-х гг . с применения аспирина на парацетамол среди детей мог стать причиной увеличения числа детей , заболевших астмой в течение данного периода .',\n",
       "  'contrast',\n",
       "  'NN'],\n",
       " ['Парацетамол ( известный в Соединённых Штатах как ацетаминофен ) – одно из самых распространённых лекарств в мире .',\n",
       "  'Из-за своей безопасности он является предпочтительным препаратом для снятия жара и болевых синдромов .',\n",
       "  'elaboration',\n",
       "  'NS'],\n",
       " ['Из-за своей безопасности',\n",
       "  'он является предпочтительным препаратом для снятия жара и болевых синдромов .',\n",
       "  'cause-effect',\n",
       "  'SN'],\n",
       " ['он является предпочтительным препаратом',\n",
       "  'для снятия жара и болевых синдромов .',\n",
       "  'purpose',\n",
       "  'NS'],\n",
       " ['Однако 10 лет назад была высказана гипотеза о том , что использование парацетамола может увеличить риск развития астмы .',\n",
       "  'Высказывалось предположение , что переход в США в 80-х гг . с применения аспирина на парацетамол среди детей мог стать причиной увеличения числа детей , заболевших астмой в течение данного периода .',\n",
       "  'elaboration',\n",
       "  'NS'],\n",
       " ['Однако 10 лет назад была высказана гипотеза о том ,',\n",
       "  'что использование парацетамола может увеличить риск развития астмы .',\n",
       "  'attribution',\n",
       "  'SN'],\n",
       " ['Высказывалось предположение ,',\n",
       "  'что переход в США в 80-х гг . с применения аспирина на парацетамол среди детей мог стать причиной увеличения числа детей , заболевших астмой в течение данного периода .',\n",
       "  'attribution',\n",
       "  'SN']]"
      ]
     },
     "execution_count": 8,
     "metadata": {},
     "output_type": "execute_result"
    }
   ],
   "source": [
    "extr_pairs(result['rst'][0], result['text'])"
   ]
  },
  {
   "cell_type": "code",
   "execution_count": 9,
   "metadata": {
    "pycharm": {
     "name": "#%%\n"
    }
   },
   "outputs": [],
   "source": [
    "from isanlp.annotation_rst import ForestExporter\n",
    "\n",
    "exporter = ForestExporter(encoding='utf8')\n",
    "exporter(result['rst'], 'example.rs3')"
   ]
  },
  {
   "cell_type": "markdown",
   "metadata": {
    "pycharm": {
     "name": "#%% md\n"
    }
   },
   "source": [
    "Output:\n",
    "    \n",
    "<div>\n",
    "<img src=\"example.rs3.png\" width=\"700\"/>\n",
    "</div>"
   ]
  }
 ],
 "metadata": {
  "kernelspec": {
   "display_name": "Python 3",
   "language": "python",
   "name": "python3"
  },
  "language_info": {
   "codemirror_mode": {
    "name": "ipython",
    "version": 3
   },
   "file_extension": ".py",
   "mimetype": "text/x-python",
   "name": "python",
   "nbconvert_exporter": "python",
   "pygments_lexer": "ipython3",
   "version": "3.7.4"
  }
 },
 "nbformat": 4,
 "nbformat_minor": 4
}