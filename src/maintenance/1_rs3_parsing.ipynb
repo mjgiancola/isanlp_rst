{
 "cells": [
  {
   "cell_type": "code",
   "execution_count": 1,
   "metadata": {},
   "outputs": [],
   "source": [
    "%load_ext autoreload\n",
    "%autoreload 2"
   ]
  },
  {
   "cell_type": "markdown",
   "metadata": {},
   "source": [
    "<div class=\"alert alert-block alert-warning\">\n",
    "<b>Note:</b> in the original RuRSTreebank dataset, some deprecated symbols occure (>, <, &, etc.), breaking the xml parser, as well as EDUs with punctuation marks at the beginning (it happens when brackets and dots/commas are separated with space in the original text). The latest version of the corpus (at the time of this notebooks' latest commit) has been corrected and dumped in <b>corpus/RuRsTreebank_full_corrected.zip</b>\n",
    "</div>"
   ]
  },
  {
   "cell_type": "markdown",
   "metadata": {},
   "source": [
    "## Read RS3 files into isanlp.DiscourseUnit annotations\n",
    "input:\n",
    " - corpus with .rs3 files\n",
    "output:\n",
    " - ``binarized_trees/file_filename_PART.du``  - pickled isanlp DiscourseUnit with tree number PART from the original *.rs3 file"
   ]
  },
  {
   "cell_type": "markdown",
   "metadata": {},
   "source": [
    "#### 1. Split dataset files into separated trees "
   ]
  },
  {
   "cell_type": "code",
   "execution_count": 2,
   "metadata": {},
   "outputs": [],
   "source": [
    "import xml\n",
    "import xml.etree.ElementTree as ET\n",
    "from scipy.sparse.csgraph import connected_components\n",
    "import numpy as np\n",
    "\n",
    "\n",
    "class RS3ForestSplitter:\n",
    "    def __call__(self, filename: str, output_dir: str):\n",
    "        output_filename = filename.split('/')[-1]\n",
    "        output_filename = output_filename.replace(\".rst\", \"\").replace(\".rs3\", \"\")\n",
    "        \n",
    "        # Save file header and make adjacency matrix\n",
    "        \n",
    "        pairs = []  # [[id1, parent1], [id2, parent2], ...]\n",
    "        context = ET.iterparse(filename, events=('end', ))\n",
    "        for event, elem in context:\n",
    "            if elem.tag == 'header':\n",
    "                header = ET.tostring(elem).decode('utf-8')\n",
    "\n",
    "            elif elem.tag == 'body':\n",
    "                for child in elem:\n",
    "                    if child.get('parent'):\n",
    "                        pairs.append(list(map(int, [child.get('id'), child.get('parent')])))\n",
    "                    else:\n",
    "                        pairs.append(list(map(int, [child.get('id'), child.get('id')])))\n",
    "\n",
    "        max_id = np.array(pairs).max()\n",
    "        adj_matrix = np.zeros((max_id, max_id))\n",
    "        for pair in pairs:\n",
    "            adj_matrix[pair[0]-1, pair[1]-1] = 1\n",
    "            adj_matrix[pair[1]-1, pair[0]-1] = 1\n",
    "            adj_matrix[pair[0]-1, pair[0]-1] = 1\n",
    "            adj_matrix[pair[1]-1, pair[1]-1] = 1\n",
    "            \n",
    "        # Find separated trees\n",
    "        n_components, labels = connected_components(adj_matrix)\n",
    "        trees = dict()\n",
    "        for _id, tree_number in enumerate(labels):\n",
    "            if not trees.get(tree_number):\n",
    "                trees[tree_number] = [str(_id+1)]\n",
    "            else:\n",
    "                trees[tree_number].append(str(_id+1))\n",
    "                \n",
    "        trees_body = dict()\n",
    "        context = ET.iterparse(filename, events=('end', ))\n",
    "        for event, elem in context:\n",
    "            if elem.tag == 'body':\n",
    "                for child in elem:\n",
    "                    for tree_number, tree_ids in trees.items():\n",
    "                        if child.get('id') in tree_ids:\n",
    "                            if not trees_body.get(tree_number):\n",
    "                                trees_body[tree_number] = [child]\n",
    "                            else:\n",
    "                                trees_body[tree_number].append(child)\n",
    "        \n",
    "        # Write the results\n",
    "        for tree_number in trees_body.keys():\n",
    "            try:\n",
    "                with open(os.path.join(output_dir, f'{output_filename}_part_{tree_number}.rs3'), 'w') as f:\n",
    "                    f.write('<rst>\\n')\n",
    "                    f.write(header)\n",
    "                    f.write('<body>\\n')\n",
    "                    for element in trees_body.get(tree_number):\n",
    "                        _id = element.get('id')\n",
    "                        _type = element.get('type')\n",
    "                        _par = element.get('parent')\n",
    "                        parent = f'parent=\"{_par}\"' if _par else ''\n",
    "                        _relname = element.get('relname')\n",
    "                        f.write(f'\\t\\t<{element.tag} id=\"{_id}\" type=\"{_type}\" {parent} relname=\"{_relname}\"')\n",
    "                        if element.tag == 'segment':\n",
    "                            f.write(f'>{self.debracket_text(element.text)}</segment>\\n')\n",
    "                        elif element.tag == 'group':\n",
    "                            f.write('/>\\n')\n",
    "                    f.write('\\t</body>\\n')\n",
    "                    f.write('</rst>')\n",
    "            except:\n",
    "                print(f\"Skip tree {tree_number} in file {filename}\")\n",
    "    \n",
    "    @staticmethod\n",
    "    def debracket_text(text):\n",
    "        return text.replace(')', '-RB-').replace('(', '-LB-')"
   ]
  },
  {
   "cell_type": "code",
   "execution_count": null,
   "metadata": {},
   "outputs": [],
   "source": [
    "splitter = RS3ForestSplitter()"
   ]
  },
  {
   "cell_type": "code",
   "execution_count": null,
   "metadata": {},
   "outputs": [],
   "source": [
    "! ls corpus/RuRsTreebank_full_6/news1/news1_rs3/* | head -2"
   ]
  },
  {
   "cell_type": "code",
   "execution_count": null,
   "metadata": {
    "scrolled": true
   },
   "outputs": [],
   "source": [
    "import os, sys\n",
    "import glob\n",
    "from tqdm import tqdm\n",
    "\n",
    "output_dir = 'corpus_rs3'\n",
    "if not os.path.isdir(output_dir):\n",
    "    os.mkdir(output_dir)\n",
    "    \n",
    "for filename in tqdm(glob.glob('corpus/RuRsTreebank_full_6/news1/news1_rs3/*.rst')):\n",
    "    splitter(filename, output_dir)\n",
    "    \n",
    "for filename in tqdm(glob.glob('corpus/RuRsTreebank_full_6/news2/news2_rs3/*.rst')):\n",
    "    splitter(filename, output_dir)\n",
    "    \n",
    "for filename in tqdm(glob.glob('corpus/RuRsTreebank_full_6/blogs/blogs_rs3/*.rst')):\n",
    "    splitter(filename, output_dir)"
   ]
  },
  {
   "cell_type": "code",
   "execution_count": null,
   "metadata": {},
   "outputs": [],
   "source": [
    "! ls -laht $output_dir/*.rs3 | wc -l  # Overall number of trees in news+blogs"
   ]
  },
  {
   "cell_type": "markdown",
   "metadata": {},
   "source": [
    "#### 2. Convert them all to *.dis files\n",
    "\n",
    "Using https://github.com/rst-workbench/rst-converter-service"
   ]
  },
  {
   "cell_type": "code",
   "execution_count": null,
   "metadata": {
    "scrolled": true
   },
   "outputs": [],
   "source": [
    "import glob\n",
    "\n",
    "input_dir = 'corpus_rs3'\n",
    "output_dir = 'corpus_dis'\n",
    "if not os.path.isdir(output_dir):\n",
    "    os.mkdir(output_dir)\n",
    "\n",
    "for file in glob.glob(os.path.join(input_dir, '*.rs3')):\n",
    "    output_file = os.path.join(output_dir, file.split('/')[-1].replace('.rs3', '.dis'))\n",
    "    ! curl -XPOST echistova:5000/convert/rs3/dis -F input=@$file > $output_file"
   ]
  },
  {
   "cell_type": "code",
   "execution_count": null,
   "metadata": {},
   "outputs": [],
   "source": [
    "! ls -lath $output_dir/*.dis | wc -l"
   ]
  },
  {
   "cell_type": "markdown",
   "metadata": {},
   "source": [
    "#### 3. Collect DiscourseUnit annotations for isanlp library"
   ]
  },
  {
   "cell_type": "code",
   "execution_count": null,
   "metadata": {},
   "outputs": [],
   "source": [
    "! pip install -U git+https://github.com/tchewik/dis2du.git"
   ]
  },
  {
   "cell_type": "code",
   "execution_count": null,
   "metadata": {},
   "outputs": [],
   "source": [
    "import glob\n",
    "import pickle\n",
    "import os\n",
    "from tqdm import tqdm\n",
    "from dis2du.read_dis import read_dis"
   ]
  },
  {
   "cell_type": "code",
   "execution_count": null,
   "metadata": {},
   "outputs": [],
   "source": [
    "# from dis2du.tree import RSTTree\n",
    "# from dis2du.convert2isanlp import convert2isanlp\n",
    "\n",
    "\n",
    "# def read_dis(filename):\n",
    "#     rst = RSTTree(filename)\n",
    "#     rst.build()\n",
    "#     return convert2isanlp(rst)\n"
   ]
  },
  {
   "cell_type": "code",
   "execution_count": null,
   "metadata": {
    "scrolled": true
   },
   "outputs": [],
   "source": [
    "input_dir = 'corpus_dis'\n",
    "output_dir = 'corpus_du'\n",
    "if not os.path.isdir(output_dir):\n",
    "    os.mkdir(output_dir)\n",
    "\n",
    "failed = []\n",
    "for file in tqdm(glob.glob(os.path.join(input_dir, '*.dis'))):\n",
    "    \n",
    "    try:\n",
    "        tree = read_dis(file)\n",
    "        output_file = file.split('/')[-1].replace('.dis', '.du')\n",
    "        with open(os.path.join(output_dir, output_file), 'wb') as f:\n",
    "            pickle.dump(tree, f)\n",
    "    except Exception as e:\n",
    "        print(e)\n",
    "        failed.append(file)"
   ]
  },
  {
   "cell_type": "code",
   "execution_count": null,
   "metadata": {
    "scrolled": false
   },
   "outputs": [],
   "source": [
    "len(failed)"
   ]
  },
  {
   "cell_type": "markdown",
   "metadata": {},
   "source": [
    "Align trees with the original texts (collect ``start`` and ``end`` for each node). Otherwise, we can't define paragraph boundaries."
   ]
  },
  {
   "cell_type": "code",
   "execution_count": null,
   "metadata": {},
   "outputs": [],
   "source": [
    "import os\n",
    "from utils.file_reading import prepare_text\n",
    "import pandas as pd\n",
    "\n",
    "def align_du2text(tree, text):\n",
    "    tree.text = prepare_text(tree.text).strip()\n",
    "    tree.start = text.find(tree.text)\n",
    "    tree.end = tree.start + len(tree.text)\n",
    "    if tree.relation != 'elementary':\n",
    "        tree.left = align_du2text(tree.left, text)\n",
    "        tree.right = align_du2text(tree.right, text)\n",
    "    return tree"
   ]
  },
  {
   "cell_type": "code",
   "execution_count": null,
   "metadata": {},
   "outputs": [],
   "source": [
    "all_pairs = []"
   ]
  },
  {
   "cell_type": "code",
   "execution_count": null,
   "metadata": {
    "scrolled": false
   },
   "outputs": [],
   "source": [
    "for file in tqdm(glob.glob('corpus/RuRsTreebank_full_6/news1/news1_txt/*.txt')):\n",
    "    text = prepare_text(open(file, 'r').read().strip())\n",
    "    filename = file.split('/')[-1].replace('.txt', '')\n",
    "\n",
    "    for du_filename in sorted(glob.glob(os.path.join('corpus_du/', filename + '_part_*'))):\n",
    "        tree = pickle.load(open(du_filename, 'rb'))\n",
    "        all_pairs += extr_pairs(tree)\n",
    "        tree = align_du2text(tree, text)\n",
    "        pickle.dump(tree, open(du_filename, 'wb'))"
   ]
  },
  {
   "cell_type": "code",
   "execution_count": null,
   "metadata": {
    "scrolled": true
   },
   "outputs": [],
   "source": [
    "for file in tqdm(glob.glob('corpus/RuRsTreebank_full_6/news2/news2_txt/*.txt')):\n",
    "    text = prepare_text(open(file, 'r').read().strip())\n",
    "    filename = file.split('/')[-1].replace('.txt', '')\n",
    "\n",
    "    for du_filename in sorted(glob.glob(os.path.join('corpus_du/', filename + '_part_*'))):\n",
    "        tree = pickle.load(open(du_filename, 'rb'))\n",
    "        all_pairs += extr_pairs(tree)\n",
    "        tree = align_du2text(tree, text)\n",
    "        pickle.dump(tree, open(du_filename, 'wb'))"
   ]
  },
  {
   "cell_type": "code",
   "execution_count": null,
   "metadata": {},
   "outputs": [],
   "source": [
    "# def extr_pairs(tree):\n",
    "#     pp = []\n",
    "#     if tree.left:\n",
    "#         pp.append([tree.left.text, tree.right.text, \n",
    "#                    tree.left.start, tree.right.start,\n",
    "#                    tree.relation, tree.nuclearity])\n",
    "#         pp += extr_pairs(tree.left)\n",
    "#         pp += extr_pairs(tree.right)\n",
    "#     return pp"
   ]
  },
  {
   "cell_type": "code",
   "execution_count": null,
   "metadata": {},
   "outputs": [],
   "source": [
    "for file in tqdm(glob.glob('corpus/RuRsTreebank_full_6/blogs/blogs_txt/*.txt')):\n",
    "    text = prepare_text(open(file, 'r').read().strip())\n",
    "    filename = file.split('/')[-1].replace('.txt', '')\n",
    "\n",
    "    for du_filename in sorted(glob.glob(os.path.join('corpus_du/', filename + '_part_*'))):\n",
    "        tree = pickle.load(open(du_filename, 'rb'))\n",
    "        all_pairs += extr_pairs(tree)\n",
    "        tree = align_du2text(tree, text)\n",
    "        pickle.dump(tree, open(du_filename, 'wb'))"
   ]
  },
  {
   "cell_type": "code",
   "execution_count": null,
   "metadata": {},
   "outputs": [],
   "source": [
    "pairs = pd.DataFrame(all_pairs, columns=['snippet_x', 'snippet_y', 'loc_x', 'loc_y', 'category_id', 'order'])"
   ]
  },
  {
   "cell_type": "code",
   "execution_count": null,
   "metadata": {},
   "outputs": [],
   "source": [
    "txt = 'Он страдает сам, он заставляет окружающих'"
   ]
  },
  {
   "cell_type": "code",
   "execution_count": null,
   "metadata": {},
   "outputs": [],
   "source": [
    "pairs[pairs.snippet_x.str.contains(txt)]"
   ]
  },
  {
   "cell_type": "code",
   "execution_count": null,
   "metadata": {
    "scrolled": false
   },
   "outputs": [],
   "source": [
    "pairs[pairs.snippet_y.str.contains(txt)]"
   ]
  },
  {
   "cell_type": "code",
   "execution_count": null,
   "metadata": {
    "scrolled": false
   },
   "outputs": [],
   "source": [
    "! ls corpus/RuRsTreebank_full_6/news1/news1_txt/* | head -2"
   ]
  },
  {
   "cell_type": "code",
   "execution_count": null,
   "metadata": {},
   "outputs": [],
   "source": [
    "# from isanlp.annotation_rst import ForestExporter\n",
    "\n",
    "# exp = ForestExporter()\n",
    "# exp([tree], 'some_tree.rs3')"
   ]
  },
  {
   "cell_type": "markdown",
   "metadata": {},
   "source": [
    "#### 5. Collect data for train and evaluation \n",
    "output:\n",
    " - ``data/file.edus``  - text file with edus from .rs3 - each line contains one edu\n",
    " - ``data/file.json``  - json file with du-pairs from gold trees. \n",
    " keys: ``['snippet_x', 'snippet_y', 'loc_x', 'loc_y', 'category_id', 'order', 'filename]``"
   ]
  },
  {
   "cell_type": "code",
   "execution_count": null,
   "metadata": {},
   "outputs": [],
   "source": [
    "def extr_pairs(tree):\n",
    "    pp = []\n",
    "    if tree.left:\n",
    "        pp.append([tree.left.text, tree.right.text, \n",
    "                   tree.left.start, tree.right.start,\n",
    "                   tree.relation, tree.nuclearity])\n",
    "        pp += extr_pairs(tree.left)\n",
    "        pp += extr_pairs(tree.right)\n",
    "    return pp\n",
    "\n",
    "def extr_edus(tree):\n",
    "    if tree.relation == 'elementary':\n",
    "        return [tree.text]\n",
    "    else:\n",
    "        tt = []\n",
    "        tt += extr_edus(tree.left)\n",
    "        tt += extr_edus(tree.right)\n",
    "    return tt"
   ]
  },
  {
   "cell_type": "code",
   "execution_count": null,
   "metadata": {},
   "outputs": [],
   "source": [
    "# ! rm -r data && mkdir data"
   ]
  },
  {
   "cell_type": "code",
   "execution_count": null,
   "metadata": {},
   "outputs": [],
   "source": [
    "import re\n",
    "\n",
    "all_pairs = []\n",
    "for orig_filename in glob.glob(os.path.join('corpus_du/', '*part_0.du')):\n",
    "    for du_filename in sorted(glob.glob(orig_filename.replace('_0', '_*')),\n",
    "                             key=lambda x: float(re.findall(\"(\\d+)\",x)[-1])):\n",
    "        tree = pickle.load(open(du_filename, 'rb'))\n",
    "        pairs = extr_pairs(tree)\n",
    "        filename = du_filename.split('/')[-1].replace('.du', '')\n",
    "        filename = '_'.join(filename.split('_')[:2])\n",
    "        if pairs:\n",
    "            pairs = [pair + [filename] for pair in pairs]\n",
    "            all_pairs += pairs\n",
    "\n",
    "        edus = extr_edus(tree)\n",
    "        with open(os.path.join('data/', filename + '.edus'), 'a') as f:\n",
    "            f.write('\\n'.join(edus))\n",
    "            f.write('\\n')"
   ]
  },
  {
   "cell_type": "code",
   "execution_count": null,
   "metadata": {},
   "outputs": [],
   "source": [
    "len(all_pairs)"
   ]
  },
  {
   "cell_type": "code",
   "execution_count": null,
   "metadata": {},
   "outputs": [],
   "source": [
    "pairs = pd.DataFrame(all_pairs, columns=['snippet_x', 'snippet_y', 'loc_x', 'loc_y', 'category_id', 'order', 'filename'])"
   ]
  },
  {
   "cell_type": "code",
   "execution_count": null,
   "metadata": {},
   "outputs": [],
   "source": [
    "pairs.head()"
   ]
  },
  {
   "cell_type": "code",
   "execution_count": null,
   "metadata": {},
   "outputs": [],
   "source": [
    "pairs = pairs.drop_duplicates()"
   ]
  },
  {
   "cell_type": "code",
   "execution_count": null,
   "metadata": {},
   "outputs": [],
   "source": [
    "pairs.shape"
   ]
  },
  {
   "cell_type": "code",
   "execution_count": null,
   "metadata": {
    "scrolled": true
   },
   "outputs": [],
   "source": [
    "pairs[pairs.loc_x == -1].shape"
   ]
  },
  {
   "cell_type": "code",
   "execution_count": null,
   "metadata": {},
   "outputs": [],
   "source": [
    "pairs = pairs[pairs.loc_x != -1]\n",
    "pairs = pairs[pairs.loc_y != -1]"
   ]
  },
  {
   "cell_type": "code",
   "execution_count": null,
   "metadata": {},
   "outputs": [],
   "source": [
    "pairs.shape"
   ]
  },
  {
   "cell_type": "code",
   "execution_count": null,
   "metadata": {},
   "outputs": [],
   "source": [
    "pairs['category_id'].value_counts(normalize=False)"
   ]
  },
  {
   "cell_type": "code",
   "execution_count": null,
   "metadata": {},
   "outputs": [],
   "source": [
    "pairs['relation'] = pairs['category_id'] + '_' + pairs['order']"
   ]
  },
  {
   "cell_type": "code",
   "execution_count": null,
   "metadata": {},
   "outputs": [],
   "source": [
    "pairs.relation.value_counts()"
   ]
  },
  {
   "cell_type": "code",
   "execution_count": null,
   "metadata": {
    "scrolled": true
   },
   "outputs": [],
   "source": [
    "pairs[pairs.relation == 'background_NN'].head()"
   ]
  },
  {
   "cell_type": "code",
   "execution_count": null,
   "metadata": {},
   "outputs": [],
   "source": [
    "pairs.reset_index().to_feather('data/all_pairs.fth')"
   ]
  },
  {
   "cell_type": "code",
   "execution_count": null,
   "metadata": {},
   "outputs": [],
   "source": [
    "pairs"
   ]
  },
  {
   "cell_type": "code",
   "execution_count": null,
   "metadata": {},
   "outputs": [],
   "source": [
    "pairs.dropna().shape"
   ]
  },
  {
   "cell_type": "code",
   "execution_count": null,
   "metadata": {},
   "outputs": [],
   "source": [
    "pairs[pairs.filename == 'blogs_65'].category_id.value_counts()"
   ]
  },
  {
   "cell_type": "markdown",
   "metadata": {},
   "source": [
    "## Annotate the texts with isanlp \n",
    "output:\n",
    " - file.annot.pkl  # morphology, syntax, semantics to use with isanlp"
   ]
  },
  {
   "cell_type": "code",
   "execution_count": 1,
   "metadata": {},
   "outputs": [],
   "source": [
    "from isanlp import PipelineCommon\n",
    "from isanlp.processor_remote import ProcessorRemote\n",
    "from isanlp.ru.converter_mystem_to_ud import ConverterMystemToUd\n",
    "from isanlp.ru.processor_mystem import ProcessorMystem\n",
    "from isanlp.processor_razdel import ProcessorRazdel\n",
    "# from isanlp.processor_deeppavlov_syntax import ProcessorDeeppavlovSyntax\n",
    "\n",
    "host_udpipe = 'papertext'\n",
    "port_udpipe = '3200'\n",
    "port_udpipe = '3134'\n",
    "\n",
    "ppl = PipelineCommon([\n",
    "    (ProcessorRazdel(), ['text'],\n",
    "    {'tokens': 'tokens',\n",
    "     'sentences': 'sentences'}),\n",
    "    (ProcessorRemote(host_udpipe, port_udpipe, '0'),\n",
    "     ['tokens', 'sentences'],\n",
    "     {'lemma': 'lemma',\n",
    "      'syntax_dep_tree': 'syntax_dep_tree',\n",
    "      'postag': 'ud_postag'}),\n",
    "    (ProcessorMystem(delay_init=False),\n",
    "     ['tokens', 'sentences'],\n",
    "     {'postag': 'postag'}),\n",
    "    (ConverterMystemToUd(),\n",
    "     ['postag'],\n",
    "     {'morph': 'morph',\n",
    "      'postag': 'postag'}),\n",
    "])"
   ]
  },
  {
   "cell_type": "code",
   "execution_count": 2,
   "metadata": {
    "scrolled": true
   },
   "outputs": [
    {
     "data": {
      "text/plain": [
       "{'text': 'Мама мыла раму.',\n",
       " 'tokens': [<isanlp.annotation.Token at 0x7f0285582450>,\n",
       "  <isanlp.annotation.Token at 0x7f02855825d0>,\n",
       "  <isanlp.annotation.Token at 0x7f0285582210>,\n",
       "  <isanlp.annotation.Token at 0x7f02855822d0>],\n",
       " 'sentences': [<isanlp.annotation.Sentence at 0x7f02855aeb50>],\n",
       " 'lemma': [['мама', 'мыть', 'рама', '.']],\n",
       " 'syntax_dep_tree': [[<isanlp.annotation.WordSynt at 0x7f02855ab490>,\n",
       "   <isanlp.annotation.WordSynt at 0x7f02855ab510>,\n",
       "   <isanlp.annotation.WordSynt at 0x7f02855ab550>,\n",
       "   <isanlp.annotation.WordSynt at 0x7f02855ab610>]],\n",
       " 'ud_postag': [['NOUN', 'VERB', 'NOUN', 'PUNCT']],\n",
       " 'postag': [['NOUN', 'VERB', 'NOUN', '']],\n",
       " 'morph': [[{'fPOS': 'NOUN',\n",
       "    'Gender': 'Fem',\n",
       "    'Animacy': 'Anim',\n",
       "    'Case': 'Nom',\n",
       "    'Number': 'Sing'},\n",
       "   {'fPOS': 'VERB',\n",
       "    'Aspect': 'Imp',\n",
       "    'Valency': 'TR',\n",
       "    'Tense': 'Past',\n",
       "    'Number': 'Sing',\n",
       "    'VerbForm': 'Fin',\n",
       "    'Gender': 'Fem'},\n",
       "   {'fPOS': 'NOUN',\n",
       "    'Gender': 'Fem',\n",
       "    'Animacy': 'Inan',\n",
       "    'Case': 'Acc',\n",
       "    'Number': 'Sing'},\n",
       "   {}]]}"
      ]
     },
     "execution_count": 2,
     "metadata": {},
     "output_type": "execute_result"
    }
   ],
   "source": [
    "ppl('Мама мыла раму.')"
   ]
  },
  {
   "cell_type": "code",
   "execution_count": 3,
   "metadata": {
    "scrolled": true
   },
   "outputs": [
    {
     "name": "stderr",
     "output_type": "stream",
     "text": [
      "/opt/.pyenv/versions/3.7.4/lib/python3.7/site-packages/ipykernel_launcher.py:5: TqdmExperimentalWarning: Using `tqdm.autonotebook.tqdm` in notebook mode. Use `tqdm.tqdm` instead to force console mode (e.g. in jupyter console)\n",
      "  \"\"\"\n"
     ]
    },
    {
     "name": "stdout",
     "output_type": "stream",
     "text": [
      "analyze path: corpus/RuRsTreebank_full_6/blogs/blogs_txt/\n"
     ]
    },
    {
     "data": {
      "application/vnd.jupyter.widget-view+json": {
       "model_id": "d21ded3350a245f7b0f90c4f18f28d6c",
       "version_major": 2,
       "version_minor": 0
      },
      "text/plain": [
       "  0%|          | 0/104 [00:00<?, ?it/s]"
      ]
     },
     "metadata": {},
     "output_type": "display_data"
    },
    {
     "name": "stdout",
     "output_type": "stream",
     "text": [
      "analyze path: corpus/RuRsTreebank_full_6/news1/news1_txt/\n"
     ]
    },
    {
     "data": {
      "application/vnd.jupyter.widget-view+json": {
       "model_id": "4e05f7c807764a4688ffa601a2f5223b",
       "version_major": 2,
       "version_minor": 0
      },
      "text/plain": [
       "  0%|          | 0/79 [00:00<?, ?it/s]"
      ]
     },
     "metadata": {},
     "output_type": "display_data"
    },
    {
     "name": "stdout",
     "output_type": "stream",
     "text": [
      "analyze path: corpus/RuRsTreebank_full_6/news2/news2_txt/\n"
     ]
    },
    {
     "data": {
      "application/vnd.jupyter.widget-view+json": {
       "model_id": "dca2628a6bfa416e91a54c8d3e39cafb",
       "version_major": 2,
       "version_minor": 0
      },
      "text/plain": [
       "  0%|          | 0/50 [00:00<?, ?it/s]"
      ]
     },
     "metadata": {},
     "output_type": "display_data"
    }
   ],
   "source": [
    "import glob\n",
    "import os\n",
    "import pickle\n",
    "\n",
    "from tqdm.autonotebook import tqdm\n",
    "from utils.file_reading import _prepare_text as prepare_text\n",
    "\n",
    "directories = ['corpus/RuRsTreebank_full_6/blogs/blogs_txt/',\n",
    "               'corpus/RuRsTreebank_full_6/news1/news1_txt/',\n",
    "               'corpus/RuRsTreebank_full_6/news2/news2_txt/'\n",
    "               ]\n",
    "\n",
    "for path in directories:\n",
    "    print('analyze path:', path)\n",
    "    for file in tqdm(glob.glob(f'{path}*.txt')):\n",
    "        filename = file.split('/')[-1].replace('.txt', '.annot.pkl')\n",
    "        if True:\n",
    "        #if not os.path.isfile(os.path.join('data', filename)):\n",
    "            text = prepare_text(open(file, 'r').read().strip())\n",
    "            try:\n",
    "                annot = ppl(text)\n",
    "                pickle.dump(annot, open(os.path.join('data', filename), 'wb'))\n",
    "            except:\n",
    "                print(filename)"
   ]
  },
  {
   "cell_type": "code",
   "execution_count": null,
   "metadata": {},
   "outputs": [],
   "source": [
    "! ls -laht data/*.pkl | wc -l"
   ]
  },
  {
   "cell_type": "code",
   "execution_count": null,
   "metadata": {},
   "outputs": [],
   "source": [
    "! ls -laht data/*.edus | wc -l"
   ]
  },
  {
   "cell_type": "markdown",
   "metadata": {},
   "source": [
    "(Optional) parse science texts"
   ]
  },
  {
   "cell_type": "code",
   "execution_count": null,
   "metadata": {
    "scrolled": true
   },
   "outputs": [],
   "source": [
    "import glob\n",
    "import os\n",
    "import pickle\n",
    "\n",
    "from tqdm.autonotebook import tqdm\n",
    "from utils.file_reading import _prepare_text as prepare_text\n",
    "\n",
    "directories = ['corpus/RuRsTreebank_full_6/sci_comp/sci_comp_txt/',\n",
    "               'corpus/RuRsTreebank_full_6/sci_ling/sci_ling_txt/',\n",
    "               ]\n",
    "\n",
    "for path in directories:\n",
    "    print('analyze path:', path)\n",
    "    for file in tqdm(glob.glob(f'{path}*.txt')):\n",
    "        text = open(file, 'r').read()\n",
    "        text = text.replace('  \\n', '#####').replace('\\n', ' ')\n",
    "        text = prepare_text(text)\n",
    "        annot = ppl(text)\n",
    "        filename = file.split('/')[-1].replace('.txt', '.annot.pkl')\n",
    "        pickle.dump(annot, open(os.path.join('data', filename), 'wb'))\n"
   ]
  },
  {
   "cell_type": "markdown",
   "metadata": {},
   "source": [
    "## Gold trees\n",
    "### Extract features \n",
    "output:\n",
    " - models/tf_idf/pipeline.pkl  # is used in default feature extraction\n",
    " - file.gold.pkl  # dataset with extracted default features for gold trees"
   ]
  },
  {
   "cell_type": "code",
   "execution_count": null,
   "metadata": {
    "scrolled": true
   },
   "outputs": [],
   "source": [
    "from sklearn.feature_extraction.text import TfidfVectorizer\n",
    "from sklearn.feature_extraction.text import TfidfTransformer\n",
    "from sklearn.decomposition import TruncatedSVD\n",
    "from sklearn.pipeline import Pipeline\n",
    "import glob\n",
    "import pickle\n",
    "import numpy as np\n",
    "import pandas as pd\n",
    "import nltk\n",
    "\n",
    "from utils.file_reading import read_annotation\n",
    "\n",
    "\n",
    "input_dir = 'data/'\n",
    "\n",
    "if not os.path.isdir('models'):\n",
    "    os.path.mkdir('models')\n",
    "\n",
    "if not os.path.isdir('models/tf_idf'):\n",
    "    os.path.mkdir('models/tf_idf')\n",
    "\n",
    "corpus = []\n",
    "for file in glob.glob(os.path.join(input_dir, f\"*.annot.pkl\")):\n",
    "    tokens = read_annotation(file.replace('.annot.pkl', ''))['tokens']\n",
    "    corpus.append(list(map(lambda token: token.text.lower(), tokens)))\n",
    "\n",
    "    \n",
    "from utils.count_vectorizer import MyCountVectorizer\n",
    "count_vect = MyCountVectorizer(ngram_range=(1, 2), tokenizer=MyCountVectorizer.dummy, preprocessor=MyCountVectorizer.dummy)\n",
    "\n",
    "svd = TruncatedSVD(n_components=25,\n",
    "                   tol=0.0,\n",
    "                   n_iter=7,\n",
    "                   random_state=42)\n",
    "\n",
    "pipeline = Pipeline([\n",
    "    ('vect', count_vect),\n",
    "    ('svd', svd)\n",
    "])\n",
    "\n",
    "pipeline.fit(corpus)\n",
    "pickle.dump(pipeline, open('models/tf_idf/pipeline.pkl', 'wb'))"
   ]
  },
  {
   "cell_type": "code",
   "execution_count": null,
   "metadata": {
    "scrolled": true
   },
   "outputs": [],
   "source": [
    "# %%bash\n",
    "\n",
    "# python -c \"import nltk; nltk.download('stopwords')\"\n",
    "# pip install dostoevsky\n",
    "# dostoevsky download fasttext-social-network-model"
   ]
  },
  {
   "cell_type": "code",
   "execution_count": null,
   "metadata": {},
   "outputs": [],
   "source": [
    "! cp ../isanlp_rst/utils/features_processor_variables.py utils/features_processor_variables.py"
   ]
  },
  {
   "cell_type": "code",
   "execution_count": null,
   "metadata": {},
   "outputs": [],
   "source": [
    "# ! pip install \"scikit_learn==0.22.2.post1\""
   ]
  },
  {
   "cell_type": "code",
   "execution_count": 5,
   "metadata": {},
   "outputs": [
    {
     "name": "stderr",
     "output_type": "stream",
     "text": [
      "Warning : `load_model` does not return WordVectorModel or SupervisedModel any more, but a `FastText` object which is very similar.\n"
     ]
    }
   ],
   "source": [
    "import pandas as pd\n",
    "import numpy as np\n",
    "from utils.print_tree import printBTree\n",
    "\n",
    "import sys\n",
    "sys.path.append('../')\n",
    "sys.path.append('../../')\n",
    "sys.path.append('../../')\n",
    "\n",
    "from _isanlp_rst.src.isanlp_rst.features_processor_default import FeaturesProcessor\n",
    "\n",
    "features_processor = FeaturesProcessor(model_dir_path='models', verbose=0)"
   ]
  },
  {
   "cell_type": "code",
   "execution_count": 6,
   "metadata": {},
   "outputs": [],
   "source": [
    "import glob\n",
    "import pandas as pd\n",
    "import pickle\n",
    "from tqdm.autonotebook import tqdm\n",
    "from utils.file_reading import read_gold, read_annotation\n",
    "\n",
    "table = read_gold('data/all_pairs')\n",
    "table = table[table.snippet_x.map(len) > 0]\n",
    "table = table[table.snippet_y.map(len) > 0]"
   ]
  },
  {
   "cell_type": "code",
   "execution_count": 7,
   "metadata": {},
   "outputs": [
    {
     "data": {
      "text/html": [
       "<div>\n",
       "<style scoped>\n",
       "    .dataframe tbody tr th:only-of-type {\n",
       "        vertical-align: middle;\n",
       "    }\n",
       "\n",
       "    .dataframe tbody tr th {\n",
       "        vertical-align: top;\n",
       "    }\n",
       "\n",
       "    .dataframe thead th {\n",
       "        text-align: right;\n",
       "    }\n",
       "</style>\n",
       "<table border=\"1\" class=\"dataframe\">\n",
       "  <thead>\n",
       "    <tr style=\"text-align: right;\">\n",
       "      <th></th>\n",
       "      <th>index</th>\n",
       "      <th>snippet_x</th>\n",
       "      <th>snippet_y</th>\n",
       "      <th>loc_x</th>\n",
       "      <th>loc_y</th>\n",
       "      <th>category_id</th>\n",
       "      <th>order</th>\n",
       "      <th>filename</th>\n",
       "      <th>relation</th>\n",
       "    </tr>\n",
       "  </thead>\n",
       "  <tbody>\n",
       "    <tr>\n",
       "      <th>5711</th>\n",
       "      <td>5734</td>\n",
       "      <td>И так. Поправим ACL domains следующим образом:...</td>\n",
       "      <td>Смотрим, что происходило в FreeSWITCH: начинае...</td>\n",
       "      <td>3330</td>\n",
       "      <td>3571</td>\n",
       "      <td>comparison</td>\n",
       "      <td>NN</td>\n",
       "      <td>blogs_43</td>\n",
       "      <td>comparison_NN</td>\n",
       "    </tr>\n",
       "  </tbody>\n",
       "</table>\n",
       "</div>"
      ],
      "text/plain": [
       "      index                                          snippet_x  \\\n",
       "5711   5734  И так. Поправим ACL domains следующим образом:...   \n",
       "\n",
       "                                              snippet_y  loc_x  loc_y  \\\n",
       "5711  Смотрим, что происходило в FreeSWITCH: начинае...   3330   3571   \n",
       "\n",
       "     category_id order  filename       relation  \n",
       "5711  comparison    NN  blogs_43  comparison_NN  "
      ]
     },
     "execution_count": 7,
     "metadata": {},
     "output_type": "execute_result"
    }
   ],
   "source": [
    "table[table.snippet_x.str.contains('И так. Поправим ACL domains следующим')]"
   ]
  },
  {
   "cell_type": "code",
   "execution_count": 8,
   "metadata": {},
   "outputs": [
    {
     "data": {
      "text/plain": [
       "joint                        5389\n",
       "elaboration                  4842\n",
       "attribution                  1959\n",
       "contrast                     1867\n",
       "cause                        1564\n",
       "evaluation                   1321\n",
       "condition                    1256\n",
       "preparation                  1088\n",
       "sequence                     1039\n",
       "same-unit                     844\n",
       "purpose                       810\n",
       "background                    494\n",
       "evidence                      442\n",
       "comparison                    415\n",
       "solutionhood                  370\n",
       "cause-effect                  341\n",
       "concession                    296\n",
       "interpretation-evaluation     159\n",
       "restatement                   138\n",
       "effect                         56\n",
       "conclusion                      6\n",
       "span                            2\n",
       "antithesis                      2\n",
       "interpretation                  1\n",
       "Name: category_id, dtype: int64"
      ]
     },
     "execution_count": 8,
     "metadata": {},
     "output_type": "execute_result"
    }
   ],
   "source": [
    "table.category_id.value_counts()"
   ]
  },
  {
   "cell_type": "code",
   "execution_count": 9,
   "metadata": {},
   "outputs": [
    {
     "data": {
      "text/html": [
       "<div>\n",
       "<style scoped>\n",
       "    .dataframe tbody tr th:only-of-type {\n",
       "        vertical-align: middle;\n",
       "    }\n",
       "\n",
       "    .dataframe tbody tr th {\n",
       "        vertical-align: top;\n",
       "    }\n",
       "\n",
       "    .dataframe thead th {\n",
       "        text-align: right;\n",
       "    }\n",
       "</style>\n",
       "<table border=\"1\" class=\"dataframe\">\n",
       "  <thead>\n",
       "    <tr style=\"text-align: right;\">\n",
       "      <th></th>\n",
       "      <th>index</th>\n",
       "      <th>snippet_x</th>\n",
       "      <th>snippet_y</th>\n",
       "      <th>loc_x</th>\n",
       "      <th>loc_y</th>\n",
       "      <th>category_id</th>\n",
       "      <th>order</th>\n",
       "      <th>filename</th>\n",
       "      <th>relation</th>\n",
       "    </tr>\n",
       "  </thead>\n",
       "  <tbody>\n",
       "    <tr>\n",
       "      <th>5711</th>\n",
       "      <td>5734</td>\n",
       "      <td>И так. Поправим ACL domains следующим образом:...</td>\n",
       "      <td>Смотрим, что происходило в FreeSWITCH: начинае...</td>\n",
       "      <td>3330</td>\n",
       "      <td>3571</td>\n",
       "      <td>comparison</td>\n",
       "      <td>NN</td>\n",
       "      <td>blogs_43</td>\n",
       "      <td>comparison_NN</td>\n",
       "    </tr>\n",
       "  </tbody>\n",
       "</table>\n",
       "</div>"
      ],
      "text/plain": [
       "      index                                          snippet_x  \\\n",
       "5711   5734  И так. Поправим ACL domains следующим образом:...   \n",
       "\n",
       "                                              snippet_y  loc_x  loc_y  \\\n",
       "5711  Смотрим, что происходило в FreeSWITCH: начинае...   3330   3571   \n",
       "\n",
       "     category_id order  filename       relation  \n",
       "5711  comparison    NN  blogs_43  comparison_NN  "
      ]
     },
     "execution_count": 9,
     "metadata": {},
     "output_type": "execute_result"
    }
   ],
   "source": [
    "table[table.snippet_x.str.contains('И так. Поправим ACL domains следующим')]"
   ]
  },
  {
   "cell_type": "code",
   "execution_count": 10,
   "metadata": {
    "scrolled": true
   },
   "outputs": [
    {
     "data": {
      "application/vnd.jupyter.widget-view+json": {
       "model_id": "f20d68d1cef740c7b16e172d7e51b598",
       "version_major": 2,
       "version_minor": 0
      },
      "text/plain": [
       "  0%|          | 0/233 [00:00<?, ?it/s]"
      ]
     },
     "metadata": {},
     "output_type": "display_data"
    },
    {
     "name": "stderr",
     "output_type": "stream",
     "text": [
      "Unable to locate first snippet >>> [['Био-тоник с пребиотиками Идеал Chocolatte для проблемной кожи Тоник изготовлен на основе гидролатов сосны, иссопа и шалфея. В него включен комплекс лизатов лакто/бифидо/пропионовых бактерий. Все. Состав максимально прост и лаконичен. Производитель сообщает, что возможно выпадение осадка.'\n",
      "  'IMG' 59 58 297 293]\n",
      " ['Тоник находится в бутылке из плотного пластика. Распылитель хороший, мелкодисперсный. Тоник водичковой текстуры, прозрачный, но в нем плавают микрочастички, похожие на частички растений. Выпадает небольшой осадок. Всегда встряхиваю перед применением. Орошаю им лицо из распылителя сразу после умывания или протираю ватным диском. Запах практически отсутствует.'\n",
      "  'IMG' 173 58 1088 293]\n",
      " ['\\u200bГель-крем для лица БИОАКТИВ с пребиотиком Chocolatte Самым интересным продуктом марки для меня стал гель-крем для лица Био-актив с 5% содержанием пребиотика Biolin P.'\n",
      "  'IMG' 333 58 1965 293]\n",
      " ['Гель находится в бутылочке из плотного пластика, дозатор помповый, удобный. Выдает нужное количество крема. Одного нажатия хватает на лицо и шею.'\n",
      "  'IMG' 452 58 2650 293]]\n",
      "Unable to locate first snippet >>> [['Общий свотч нижнего ряда оттенков. IMG'\n",
      "  'Тени нанесены подушечкой пальца без использования базы' 522 313 3043\n",
      "  1769]]\n",
      "Unable to locate first snippet >>> [['Тем не менее слухи о монахе разошлись быстро и вскоре на этом месте строится первая часовня. Датой же основания монастыря принято считать 1661 год, за два года до этого Филарет умер. В монастырь привезли точную копию Грузинской иконы Божьей Матери, которая и по сей день является главной святыней монастыря. Деревянные постройки разрушил пожар. Каменные здания стали появляться в начале 18-го века. Чуть ранее началось строительство стены вокруг монастыря.'\n",
      "  'IMG' 188 16 1107 66]]\n",
      "Unable to locate first snippet >>> [['В крепости Кастель делль Ово в 476 был заключен после своего свержения Ромул Августул, последний император Западной Римской империи.'\n",
      "  'IMG' 104 68 535 337]\n",
      " ['Церковь воздвигнута в 1817-46 годах по проекту Пьетро Бьянки и выделяется огромными крыльями с дорической колоннадой.'\n",
      "  'IMG' 391 68 2270 337]\n",
      " ['Фердинанд I - король Неаполя в 1458-1494 годах из династии Трастамара (в Неаполе называемой обычно Арагонской):'\n",
      "  'IMG' 503 68 2932 337]\n",
      " ['Карл III - король Испании с 1759 года, герцог Пармский (под именем Карл I) в 1731-1734 годах, король Неаполя и Сицилии (под именем Карл VII) в 1734-1759 годах:'\n",
      "  'IMG' 523 68 3048 337]\n",
      " ['Королевский дворец в Неаполе (Палаццо Реале; итал. Palazzo Reale di Napoli) - главная резиденция монархов Королевства Обеих Сицилий из династии Бурбонов. Построен вокруг Пьяцца-дель-Плебисчито в Неаполе на месте дворца, выстроенного по проекту Доменико Фонтаны для Филиппа III (который никогда не бывал в Неаполе). К строительству приступили в 1600 году и продолжалось оно более 50 лет. В 1717 г. в том здании укрывался царевич Алексей перед арестом и выдачей в Россию.'\n",
      "  'IMG' 559 68 3212 337]\n",
      " ['Кастель-Нуово (Castel Nuovo; собств. «новый замок») - замок, возведенный королем Карлом Анжуйским на взморье в Неаполе в связи с переносом столицы его владений из Палермо. Строительство началось под присмотром французских военных инженеров в 1279 году и продолжалось три года.'\n",
      "  'IMG' 688 68 3983 337]\n",
      " ['Галерея Умберто I (итал. Galleria Umberto I) - публичная торговая галерея (пассаж) в Неаполе, названная в честь короля Италии Умберто I. Здание было построено в 1887-1891 годы, и является отправной точкой в многолетней реконструкции Неаполя, которая называлась risanamento (букв. «делать здоровым снова») и продолжалась до Первой мировой войны. Галерея была спроектирована Эмануэле Рокко, и напоминает галерею Витторио Эмануэле II в Милане. Галерея была призвана создать общественное пространство в центре Неаполя, объединяющее бизнес, магазины и предприятия питания.'\n",
      "  'IMG' 737 68 4264 337]\n",
      " ['Галерея была официально открыта 10 ноября 1894 года мэром Неаполя Никола Аморе.'\n",
      "  'IMG' 834 68 4836 337]\n",
      " ['Представляет из себя высокое и просторное крестообразное сооружение, увенчанное стеклянным куполом. Площадь этих окон 1076 квадратных метра. Имеет четыре сводчатых крыла, одно из которых выходит на улицу Толедо - одну из центральных магистралей города. Здание является частью объекта «Исторический центр города Неаполь» в списке всемирного наследия ЮНЕСКО.'\n",
      "  'IMG IMG' 848 686 4920 3975]]\n",
      "Unable to locate first snippet >>> [['Вот почему возникла необходимость остановки у аптеки'\n",
      "  'для покупки новых тапок.' 1295 67 6816 371]]\n",
      "Unable to locate first snippet >>> [['Дневной крем для лица Bee Honest de Traaу Dag Creme Rozen voor een droge huid/Creme de Jour Rose pour une peau seche призван увлажнить и защитить сухую кожу благодаря входящим в состав пчелиному воску, маслу ши, маслу сладкого миндаля, ослинника и дикой розы.'\n",
      "  'И снова о голландской косметике. Увлажнение лица с Bee Honest IMG' 104\n",
      "  15 579 53]\n",
      " ['Моя кожа получает от крема необходимое увлажнение, становится гладкой на ощупь. Впитывается крем, несмотря на свою текстуру, довольно быстро: после двух минут массажа я уже могу наносить макияж. Тональный, пудра, тени, румяна ложаться на него отлично, так что конфликта с декоративной косметикой нет.'\n",
      "  'IMG' 218 26 1217 115]\n",
      " ['Ночной крем для лица Bee Honest de Traaу Nacht Creme Rozen voor een droge huid /Creme de Noit Rose pour une peau seche IMG Ночной крем, как и дневной, обязан делать то же самое с моей кожей, но только ночью. По характеристикам он точно такой же, как и дневной. Такой же плотный, точно так же я его наношу и эффект от него аналогичный. Хорошо увлажняет и разглаживает кожу, питает немного. Честно говоря, я не увидела никакой разницы между дневным и ночным, поэтому иногда меняю их местами. На ночной крем макияж ложится так же хорошо.'\n",
      "  'IMG' 411 26 2074 115]\n",
      " ['Ночной крем для лица Bee Honest de Traaу Nacht Creme Rozen voor een droge huid /Creme de Noit Rose pour une peau seche'\n",
      "  'IMG' 411 26 2074 115]\n",
      " ['Скраб для лица Bee Honest de Traaу Gezichts scrub Rozen voor alle huidtуpes/Eхfoliant visage Rose pour tous tуpes de peau'\n",
      "  'IMG' 716 26 3455 115]\n",
      " ['Скраб хорошо полирует кожу, выравнивает поверхность. После того, как я его смываю, кожа остается напитанной маслами - никакой сухости или стянутости после использования нет. Использую скраб по настроению 1-2 раза в неделю.'\n",
      "  'IMG' 805 26 3931 115]]\n",
      "Unable to locate first snippet >>> [['Тетка меня подбодрила что \"ну вот в районе двух точно должен быть,'\n",
      "  'племянник ездил\".' 929 780 4813 4065]]\n",
      "Unable to locate first snippet >>> [['Снова вздрогнула,' 'услышав свою фамилию.' 805 682 4282 3623]]\n",
      "Unable to locate first snippet >>> [['Из зеркала напротив кровати на меня кто-то злобно таращится. «Кто Вы, женщина? – спрашиваю я строго, - что Вы себе позволяете и что прикажете с Вами делать?». Вздохнув, начинаю реанимационные мероприятия: душ, умывание, немного боевой раскраски. Заодно мажу шею кремом с вольтареном, а то после вчерашнего сна в самолетном кресле ее слегка заклинило .'\n",
      "  'IMG' 199 185 1000 936]\n",
      " ['Что бы я на себя ни надела, перед выходом это придется чистить. Ведь дома у меня проживает абсолютно белое кошИчкО, но с черным хвостом и серой маской на морде, как у енота. Такой оригинальный раскрас позволяет ей злонамеренно линять на светлые вещи черными волосьями, а на темные – белыми. Что ж, липкая лента и щетки – наше все, а кошачий пух и мех – не грязь, а аксессуар.'\n",
      "  'IMG' 271 185 1372 936]\n",
      " ['Ну вот, я готова спускаться на завтрак.Тайм-чек.' 'IMG' 351 185 1752\n",
      "  936]\n",
      " ['Уж как получилось, извините.' 'IMG' 381 185 1909 936]\n",
      " ['Как-то соответствует он этому имени.' 'IMG' 413 185 2088 936]\n",
      " ['Я не умею делать селфи (вы в этом еще убедитесь) и не умею завтракать. Поэтому немного хлопьев и чашка чая. Больше утром я в себя запихнуть не могу.'\n",
      "  'IMG' 422 185 2138 936]\n",
      " ['Рядом с моим отелем находится знаменитое венское кафе «Шперль», где я вчера обедала сразу после приезда. М-м-м, какой у них запеченный камамбер с грушей и ветчиной!.. Надеюсь, что успею сегодня туда забежать.'\n",
      "  'IMG' 469 185 2356 936]\n",
      " ['Тем более что альтернативный вариант на другой стороне улицы меня совсем не прельщает своим названием))))'\n",
      "  'IMG' 510 185 2569 936]\n",
      " ['Встречаю воинственно настроенное жЫвотное' 'IMG' 530 185 2679 936]\n",
      " ['там уже работает рождественский базар, глинтвейн разливают, пряниками кормят…'\n",
      "  'IMG' 568 185 2919 936]\n",
      " ['Тайм-чек' 'IMG' 360 185 1791 936]\n",
      " ['Обувка найдена, оплачена и оставлена в магазине. Вернусь за ней после.'\n",
      "  'IMG' 583 185 3014 936]\n",
      " ['Выставка приурочена к 450-летию со дня смерти Питера Брейгеля-старшего. И помимо собрания, которое постоянно хранится в Венском Музее истории искусств, на ней можно увидеть полотна, специально доставленные из других музеев. Это по-настоящему уникальное событие, ведь речь идет о бесценных шедеврах, а их крайне редко и неохотно перемещают с места на место, из страны в страну.'\n",
      "  'IMG' 611 185 3159 936]\n",
      " ['На полотне от снега рябит в глазах (как? как Брейгелю удалось передать это неуловимое мельтешение снежных хлопьев?!), и снег, подобно полупрозрачному занавесу, маскирует происходящее. А присутствующие люди суетятся, толпятся, заслоняют своими неуклюжими телами истинное Чудо.'\n",
      "  'IMG' 796 185 4225 936]\n",
      " ['и подождать: охотники доберутся до дома, собаки улягутся у очага, я скоро вырасту и никогда больше не пойду в детский сад. И само собой, пожелания счастья, написанные на открытках, непременно сбудутся. А как же иначе?'\n",
      "  'IMG' 1124 185 6009 936]\n",
      " ['и общаюсь с автоматом по продаже билетов. Как там Высоцкий пел: \"У автомата, в нем ума палата, стою я, улыбаясь глуповато...\" Нам с автоматом все-таки удалось достичь взаимопонимания, и на радостях я заодно покупаю билет на электричку до аэропорта.'\n",
      "  'IMG' 1376 185 7347 936]\n",
      " ['Вчера я заходила внутрь, как раз шла месса, удалось послушать пение и органную музыку.'\n",
      "  'IMG' 1443 185 7699 936]\n",
      " ['По дороге в Steffl сталкиваюсь с какой-то демонстрацией. Вроде как защищают женщин и детей, но от чего?'\n",
      "  'IMG' 1461 185 7790 936]\n",
      " ['Выражаю свою солидарность. Интересно, с чем?' 'IMG' 1482 185 7898 936]\n",
      " ['Здесь посетители до сих пор читают бумажные газеты. А для удобства подпирают их специальными смешными подставочками. Венские традиции...'\n",
      "  'IMG' 1585 185 8367 936]\n",
      " ['Но шницель мне все же приносят, я отрезаю от него кусок и лишь потом вспоминаю, что еду надо запечатлеть. Далее на 15 минут мир вокруг перестает существовать.'\n",
      "  'IMG' 1607 185 8508 936]\n",
      " ['Решаю отправить ему довольное фото, но выходит почему-то грустно. Не мастер я селфи, увы…'\n",
      "  'IMG' 1676 185 8860 936]\n",
      " ['За спиной у меня – огромное старинное зеркало. И фортепьяно. Пианист играет легкий джаз. Не хочется уходить… Но надо.'\n",
      "  'IMG' 1695 185 8954 936]\n",
      " ['Отель-чемодан-метро.' 'Тайм-чек. IMG' 1720 360 9076 1791]]\n",
      "Unable to locate first snippet >>> [['Почему Clarins?' 'IMG' 125 46 650 220]\n",
      " ['Внешний вид в лучших традициях марки. Увесистая стеклянная баночка в сочном апельсиновом оттенке с матовым покрытием. Казалось бы, ничего особенного, но ее наличие на полке в ванной крайне радует взгляд. Под крышкой и защитной мембраной находится крем персикового оттенка с приятным, ненавязчивым ароматом. Текстура у крема средней плотности. Не могу назвать его ни легким, ни жирным. На моей обезвоженной коже он мгновенно впитывается, оставляя после себя матовое холеное свечение, что, на мой взгляд, является приятным бонусом, потому как от уходовых средств никаких мгновенных визуальных преображений не жду. При этом кожу лица не перегружает, после себя пленки не оставляет, ну не молодец ли?'\n",
      "  'IMG IMG' 507 268 2354 1443]\n",
      " ['Текстура у ночной версии более густая и плотная. При этом ведет себя крем крайне прилежно: впитывается за считанные мгновения, не жирнит, масляным блином светиться не заставляет, с кожи не скатывается и в принципе оставляет после себя крайне приятные и комфортные ощущения. Никаких нареканий.'\n",
      "  'IMG' 1082 46 5192 220]\n",
      " ['Внешний видидентичен мини-версии ночного крема, но оформлениемаски выполнено в сиреневом оттенке. Само средство того же оттенка с приятной косметической отдушкой. Для меня использование подобного сродни релакс-терапии.'\n",
      "  'IMG' 1451 46 6846 220]\n",
      " ['Текстуракомфортной средней плотности. Производитель рекомендует нанести маску на 10 минут, а после смыть, но если при этом вы попробуете нанести ее тонким слоем, то смывать в сущности будет практически нечего, потому что она впитается так же легко, как и крем (неплохой вариант для ленивых).'\n",
      "  'IMG' 1482 46 7069 220]\n",
      " ['Итог: Неплохая увлажняющая маска девчачье-сиреневого оттенка с приятным ароматом. Если хотите побаловать себя чем-то эдаким - хороший вариант, но в целом полно аналогов за меньшие деньги. Время тестирования: 1 месяц, 2-3 раза в неделю Цена: полноразмерка в районе 5000 до скидки'\n",
      "  'Оценка: 4' 1669 745 8126 3752]]\n",
      "Unable to locate first snippet >>> [['Сегодня будем размышлять над следующим изречением (тем, кто не знает иностранных языков - Google в помощь)'\n",
      "  'IMG' 626 128 3068 631]]\n",
      "Unable to locate first snippet >>> [['Вот этот учебник - он как раз такой, я купила его себе в подарок, для приятности.'\n",
      "  'IMG' 341 123 1665 590]\n",
      " ['сотрудники и молодые люди-участники проекта, приходят проживающие в интернате, и мы занимаемся физкультурой, играем, гуляем, готовим и едим, варим мыло, валяем или рисуем и шьем всякую красоту. А главное, общаемся и тусим.'\n",
      "  'IMG' 742 123 3639 590]]\n",
      "Unable to locate first snippet >>> [['Помню, в детском лагере делала пепельницу для папы из такого гриба. Старательно выдалбливала внутренность и подарила на \"родительском дне\". Наверное, он выкинул этот \"шедевр\", дома я таких пепельниц не помню.'\n",
      "  'IMG' 175 88 912 442]\n",
      " ['Вот это явно не грибы, больше похоже на цветок. Рвать не стала, кто знает что за чудо такое без листочков, прямо из земли растущее?'\n",
      "  'IMG' 237 88 1256 442]\n",
      " ['Возле ствола дерева почти незаметное зеркальце от мотоцикла и босоножки, висящие на ремешке. Примерять не стала, еще не сезон.'\n",
      "  'IMG' 290 88 1520 442]\n",
      " ['Но вот прошел небольшой отряд грибников, у них были сморчки! Оказывается, искать надо там, где поваленные деревья. Свернув к бурелому, я долго \"продиралась как медведь сквозь лесной валежник\", и вот он - первый гриб! То есть это уже второй, первый я сорвала, забыв сфотографировать. Поскольку уж очень долго искала.'\n",
      "  'IMG' 322 88 1693 442]\n",
      " ['Они прохладные в руке и пахнут хорошими грибами, эти сморчки. Много собирать не стала, вдруг не понравятся на вкус. А лазить по бурелому удовольствие то еще. Зацепившись за ветку, не удержалась и встала на коленки в небольшое лесное болотце. Потом, правда, джинсы быстро высохли - жара.'\n",
      "  'IMG' 386 88 2013 442]\n",
      " ['Предположительно это были скорлупки яиц дрозда. Самих дроздов на дачах мы встречали неоднократно, как черных, так и рябинников. Они, видимо, вьют гнезда в нашем ельнике. Погода была отличная, прогулялась я от души и шагомер в телефоне к концу прогулки показал больше пяти километров пройденного пути по \"пересеченной местности\". А сморчки приготовить оказалось не очень сложно. На вкус они чем-то напомнили лисички. При жарке \"стреляли\", поскольку в них много пустых полостей, их надо резать помельче. И перед жаркой три раза слить закипевшую воду, ибо условно-съедобность их очевидна. Попробовав одну штучку, успокоилась, а всеядные домашние доели всю оставшуюся сковородку под жареную картошку. Сбор грибов прошел не даром. И прогулялись, и новое блюдо опробовали.'\n",
      "  'IMG' 488 88 2545 442]]\n",
      "Unable to locate first snippet >>> [['Футляр сделан из крепкого пластика, розочки и надписи на колпачке медленно, но верно стираются. Поэтому просто в сумке помаду лучше не носить. Объем полноразмера как у некоторых миниатюр 😄 – 2,6 мл.'\n",
      "  'IMG' 54 21 256 79]\n",
      " ['Спонжик скошенный, для меня он удобен. Ограничитель вроде бы есть, но в то же время свою функцию он выполняет плохо, поэтому излишки помады я всегда убираю о горлышко.'\n",
      "  'IMG' 92 21 459 79]]\n",
      "Unable to locate first snippet >>> [['Только что почищенные зубы после завтрака вновь станут мишенью для формирования налета. Зубной налет - это скопление бактерий в конгломерате протеинов и пищевых волокон, который формируется сразу после приема пищи. Образование налета начинается связыванием гликопротеинов пищи с ионами кальция и фосфатами зубной эмали.'\n",
      "  'IMG' 245 123 1299 663]\n",
      " ['Парадоксально, но слюна справляется со своей задачей настолько, что кроме эмали минерализации подвергается даже налет, в результате чего последний превращается в зубной камень.'\n",
      "  'IMG' 612 123 3626 663]]\n",
      "Unable to locate first snippet >>> [['От чего я решила отказаться в первую очередь: сахар в чае и кофе; магазинная выпечка и сладости с сахаром (бывают исключения, но очень редко). Сладости я оставила только без сахара и органический шоколад в очень умеренных дозах (чтоб не так хотелось убивать людей))) Как оказалось, при желании можно найти массу сладостей либо вообще без добавления подсластителей, либо с качественными сахзамами.'\n",
      "  'IMG' 230 21 1290 82]\n",
      " ['Что касается сахарозаменителей. После нескольких лет проб, ошибок и выброшенных/раздаренных упаковок сахзама я нашла приемлемый для себя вариант из смеси эритритола, стевии, сукралозы и топинамбура. Его можно использовать даже в выпечке (кто не в курсе - не все сахзамы годятся для этого), при этом вкус блюда не страдает. После него не остается мерзкого привкуса, что немаловажно. Из-за этого я забраковала множество сахзамов - они либо портили вкус блюд, либо оставляли привкус, от которого невозможно избавиться. Насчет сахарозаменителей есть тоже множество баталий, но все исследования, которые проводились, демонстрируют, что умеренное и дозированное потребление даже неоднозначных химических сахарозаменителей не приносят вреда здоровью. У меня же за год ушло где-то 250 граммов сахарозаменителя. То есть потребление ультраумеренное. Но и в напитки я его не кладу. Для кого вопрос напитков актуален - рекомендую сироп агавы.'\n",
      "  'IMG' 442 21 2483 82]\n",
      " ['Что изменилось - восприятие сладкого вкуса. Если мне вдруг захотелось купить сладость в магазине, я это делаю, но обнаруживаю, что ем ее вообще без удовольствия. Что надолго отбивает желание даже смотреть в их сторону. Например, за этот год я съела где-то 4 порции магазинного мороженного (причем все - сорбеты). А вот самодельного домашнего чуть больше, но оно было без сахара. Огромным лакомством мне теперь кажутся протеиновые батончики (хотя некоторые европейские тоже оказались непомерно сладкими), батончики на основе орехов и сухофруктов (хороший вариант для туристов, кстати).'\n",
      "  'IMG' 732 21 4088 82]]\n",
      "Unable to locate first snippet >>> [['Например, в категории «животных белков» красное мясо является более тяжелым'\n",
      "  'для усвоения,' 364 337 2083 1906]\n",
      " ['но выбираем продукты наиболее легкие' 'для усвоения,' 572 337 3210\n",
      "  1906]]\n",
      "Unable to locate first snippet >>> [['Как лечить? Эффективным лечением синдрома «компьютерной» шеи считается курс мануальной терапии или лечебного массажа у опытного специалиста. Исходя из запущенности медицинского случая, может потребоваться от четырех до шести сеансов, но большинство пациентов замечают облегчение уже после первого приема.'\n",
      "  'IMG' 165 71 957 367]\n",
      " ['Профилактика. Здоровье спины современного человека неразрывно связано с правильной организацией рабочего места вне зависимости от того, где он работает - в офисе, коворкинге или дома. Идеальный вариант: - монитор находится на уровне глаз (то же самое касается и любимого смартфона); - удобное кресло, на котором вы сидите с ровной спиной, опираясь на поясницу; - руки на столе под прямым углом; - ноги не скрещивать, можно поставить на подставку. Не стоит забывать и про регулярную пятиминутную разминку верхнего плечевого пояса и шеи, она поможет справиться с напряжением. Это должно быть вращение головы по кругу, ее поочередные наклоны в разные стороны или запрокидывание вперед и назад.'\n",
      "  'IMG' 211 71 1266 367]\n",
      " ['Помимо правильного рабочего места, о котором мы рассказали в предыдущем пункте, благоприятный эффект на осанку и укрепление мышц спины в целом оказывает йога. Регулярное выполнение асан поможет сохранить здоровье позвоночника на долгие годы.'\n",
      "  'IMG' 514 71 3185 367]\n",
      " ['№3. Остеохондроз Неправильная осанка, постоянный наклон головы у пользователей смартфонов и планшетов нередко приводит и к другому неприятному заболеванию - шейному остеохондрозу. Это разрушение межпозвоночных дисков, с которым сталкиваются люди после 30 лет (хотя сейчас группа риска сильно «помолодела»). Человек с таким заболеванием поначалу испытывает только боль в шее, но со временем к этому симптому прибавляются мигрени, легкие головокружения, появление «мушек» перед глазами. Самым точным методом диагностики болезни остаются МРТ и КТ, и чем раньше будет выявлено заболевание, тем выше шанс, что для выздоровления не потребуется операция.'\n",
      "  'IMG' 552 71 3431 367]\n",
      " ['Как лечить? Исходя из стадии шейного остеохондроза, врач-невролог назначает комплекс амбулаторного лечения, состоящего из курса противовоспалительных инъекций, аутоплазмотерапии, лечебного массажа и мануальной терапии, а также ношения корректирующего белья. Как правило, прохождение всего курса и соблюдение рекомендаций врача позволяет пациенту вернуться к здоровой жизни. Профилактика. Хорошей профилактикой остеохондроза станет плавание в бассейне, в частности, на спине. К этому необходимо добавить регулярную утреннюю зарядку, пятиминутную разминку на рабочем месте, самомассаж плеч и шеи.'\n",
      "  'IMG' 660 71 4083 367]\n",
      " ['№4. Формирование миофасциальных триггерных точек Неврологический синдром, который является причиной боли в голове и шее у 80% людей в возрасте до 40 лет. Из-за постоянного напряжения в спине и офисной работы у многих пациентов формируются небольшие болезненные узелки в мышцах - так называемые триггерные точки. Они появляются вследствие долговременного нахождения в неудобной позе, напряжения и микротравм мышц. Особенность миофасциального синдрома в том, что боль может отдавать в грудной отдел спины и провоцировать мигрень.'\n",
      "  'IMG' 748 71 4682 367]\n",
      " ['Как лечить? К действенным методам лечения относится мануальная терапия, аутоплазмотерапия и курс противовоспалительных инъекций. На приеме врач-невролог составит необходимый план лечения, учитывая количество триггерных точек и их локализацию. Профилактика. Образованию мышечных узелков препятствуют поддержание правильной осанки по время работы, регулярные занятия йогой, массаж и плавание.'\n",
      "  'IMG' 832 71 5214 367]]\n",
      "Unable to locate first snippet >>> [['Плотный завтрак положительно влияет на вес? Популярно мнение, что завтрак защитит от перееданий на протяжении дня и «разгонит метаболизм». Для проверки этого убеждения было проведено множество исследований.'\n",
      "  'IMG' 95 94 478 474]\n",
      " ['Завтрак - это каша, яйца и хлопья? Откуда появились эти утренние сценарии: заботливый бойфренд приносит в постель поднос с апельсиновым соком и тостами, мама хлопотливо жарит яичницу с беконом, школьник с аппетитом перемешивает хлопья и молоко, подружки встретились для утреннего кофе и парочки шоколадных кексов? Многие убеждены, что для завтрака пригоден строго ограниченный набор продуктов. Откуда-то пришли жесткие правила: мюсли, йогурт и яйца - идеальны для начала дня, а курица, рис и овощной салат будут лучше выглядеть на обеденном столе. Эти установки методично внедрялись с помощью рекламных плакатов и роликов со счастливыми семьями в окружении «каш-минуток». Профессор Теренс Кили в своей книге «Завтрак - опасный прием пищи» обнаружил, что львиная доля исследований, в которых завтрак провозглашался беспрекословным королем, финансировались производителями хлопьев, зерновых и печений. Теренс Кили прогнозирует, что глобальные продажи сухих завтраков на 2019 год достигнут 43,2 млрд долларов (около 34 млрд фунтов) ежегодно, по сравнению с 32,5 млрд долларов (25,6 млрд фунтов) в 2012-м.'\n",
      "  'IMG' 221 94 1243 474]\n",
      " ['Что тогда есть на завтрак? Большинство продвигаемых продуктов для завтрака создано из очищенных и обработанных зерен, сахара и ненасыщенных жиров. На полках супермаркета легко найти утренние варианты, наполненные пустыми сладкими калориями, а вот отыскать пищу, содержащую достаточно качественного белка и насыщенных жиров, сложнее. Доказано, что богатый протеином завтрак помогает предотвратить нездоровые перекусы в течение дня.'\n",
      "  'IMG' 408 94 2349 474]\n",
      " ['Бельгийские исследователи собрали 28 мужчин, ведущих активный образ жизни, и разделили их на три группы. В течение шести недель представители первой не делали никаких упражнений и получали высококалорийный завтрак, вторая группа плотно ела перед тренировкой, а третья питалась после занятий спортом. К концу эксперимента те, кто не тренировались, набрали в среднем по 2,7 килограмма. Члены группы, которая завтракала перед тренировкой, также прибавили в весе, но вдвое меньше, чем представители первой. Мужчины, которые получали еду после тренировки, не набрали вес и не показали никаких признаков резистентности к инсулину.'\n",
      "  'IMG' 574 94 3289 474]\n",
      " ['Еще одно интересное исследование оперирует информацией, собранной в период с 1990 по 2018 годы. Мета-анализ данных говорит о небольшой разнице в весе в пользу отказавшихся от утреннего приема пищи. Участники, которые завтракали на протяжении эксперимента, за сутки потребляли больше энергии, чем те, которые пропускали завтрак (средняя разница 259 ккал в день).'\n",
      "  'IMG' 706 94 4089 474]\n",
      " ['Как узнать, что подходит мне? Самый простой и действенный совет - прислушаться к своему организму. Если с утра вам действительно хочется есть, отдавайте предпочтение цельнозерновым продуктам, насыщенным жирам и протеину. Если сразу после пробуждения «кусок не лезет в горло» - не мучайте себя, следуя за правилами в фитнес-коучей из инстаграма, дождитесь момента, когда ваш организм попросит еды. Все исследования, перечисленные в статье, не рассматривают завтраки отдельно от жизни. Для того, чтобы понять, нужен ли завтрак именно вам, необходимо знать ваши цели, образ жизни и вкусовые предпочтения.'\n",
      "  'IMG' 768 94 4455 474]]\n",
      "Unable to locate first snippet >>> [['Можно из 20 дней сделать 8?' 'Да.' 1175 1173 6138 6134]]\n",
      "Unable to locate first snippet >>> [['Мне нравился аромат хны и совершенно не нравился запах басмы, но я обожаю черный цвет. Черный цвет на века, который будет с тобой до конца твоих дней или пока ты не срежешь его))'\n",
      "  'IMG' 211 31 1112 144]\n",
      " ['В августе 2018 года я захотела перемен в длине волос и в цвете. Я отрезала волосы по плечи и убрала из окрашивания басму, оставив хну. Хотелось стать чуть посветлее, ярче, теплее, солнечнее. Но какой бы шикарной не была хна, она не сделает имеющиеся волосы светлее. Она лишь придаст им медный оттенок и слегка затемнит.'\n",
      "  'IMG' 646 31 3445 144]\n",
      " ['И с такими мыслями я решаюсь на стрижку боб-каре. Как люблю я говорить, подлецу все к лицу, даже такие изменения. Уход остается прежним.'\n",
      "  'IMG' 770 31 4094 144]\n",
      " ['Что до цвета, то хна обесцветилась до желто-оранжевого цвета, а басма - сине-зеленое безобразие.'\n",
      "  'IMG' 974 31 5109 144]\n",
      " ['Но дело сделано, теперь моя задача ухаживать за поврежденными волосами, стараясь поддерживать цвет и качество волос на должном уровне.'\n",
      "  'IMG' 1131 31 5968 144]\n",
      " ['В моем арсенале красные и розовые(фуксия) оттенки, я их чередую, меняться прикольно, кстати, никогда не соскучишься)'\n",
      "  'IMG' 1430 31 7672 144]\n",
      " ['А каждые месяц-полтора я прохожусь по корням обесцвечивающей пудрой, замешанной на 1,5% оксигенте, и после тонирую каким-нибудь прямым пигментом. Чаще всего цветом «фуксия».'\n",
      "  'IMG' 1455 31 7793 144]\n",
      " ['Вернемся к уходу. Если ранее он состоял из легкого и не самого мягкого шампуня, средненькой маскочки и масляной несмывашки, то теперь это мягенький шампунь с кучей смягчающих компонентов, обязательно мощная питательная маска, кондиционер(не всегда и только после маски), трехступенчатый несмываемый уход: увлажняющий спрей, кремовая термозащита и финишная масляная несмывашка. Раньше, до моего увлечения уходом за волосами, все это мне казалось таким сложным и запутанным, а сейчас как дважды два. Я знаю, что за чем идет и знаю, какое средство какой эффект в сцепке с другим средством дает. И это прекрасно!'\n",
      "  'IMG' 1486 31 7971 144]\n",
      " ['Что до защиты цвета окрашенных волос, то здесь, на мой взгляд, все стандартно: краситель вымывается в прежнем режиме.'\n",
      "  'IMG' 1868 31 10025 144]\n",
      " ['Консистенция шампуня очень интересная: этакий крем-гель нежно-розового цвета без посторонних вкраплений и добавок, тягучий и ароматный. Кстати, аромат очень насыщенный, первое время может надоедать своей резкостью. К сожалению, у меня плохо получается детально описывать ароматы, но на мой взгляд, он представляет собой адскую смесь дедушкиного одеколона и цветочного букета. И только от пользователя шампуня зависит, чем будут пахнуть его волосы: нанесешь немного и смоешь хорошо, будет приятный аромат цветов, если переборщишь и плохо смоешь-привет, дедуля.'\n",
      "  'IMG' 1892 31 10147 144]\n",
      " ['Маска для волос Angel Professional Color Protect Hair Mask Защита цвета'\n",
      "  'IMG' 2076 31 11223 144]\n",
      " ['Содержит в себе жирные спирты, глицерин (шикарный увлажняющий компонент, не знаю, почему вокруг него столько шумихи), масла виноградных косточек, арганы, макадамии, экстракты бурых водорослей и лепестков дикой сакуры, амодиметикон(силикон), кератин, гидролизованные протеины пшеницы.'\n",
      "  'IMG' 2107 31 11400 144]\n",
      " ['Консистенция у маски похожа на нежнейший пудинг или густой йогурт розового цвета. Аромат такой же яркий, как у шампуня. Но к нему я привыкла и почти не замечаю.'\n",
      "  'IMG' 2157 31 11688 144]\n",
      " ['Маска дарит моим волосам все то, чего им не хватает: блеск, увлажнение, питание. Трогаешь их и ощущаешь приятную прохладу и нетипичную для обесцвеченного полотна волос мягкость. Они не спутываются, и в целом, выглядят очень даже ухоженными. В ней нет ничего лишнего, она не перегружает волосы и не способствует их преждевременному загрязнению несмотря на то, что я ее наношу близко к корням.'\n",
      "  'IMG' 2190 31 11853 144]\n",
      " ['Кому подойдет эта маска: окрашенным и обесцвеченным волосам - однозначно. Неокрашенным и волосам, окрашенными травами - с осторожностью, поскольку лишний кератин в составе маски с такими волосами может сыграть злую шутку. Цена: 857р Объем: 500мл Оценка: 5'\n",
      "  'Срок тестирования: 2 месяца.' 2295 2041 12449 11031]\n",
      " ['Кому подойдет эта маска: окрашенным и обесцвеченным волосам - однозначно. Неокрашенным и волосам, окрашенными травами - с осторожностью, поскольку лишний кератин в составе маски с такими волосами может сыграть злую шутку. Цена: 857р Объем: 500мл'\n",
      "  'Оценка: 5' 2295 2038 12449 11021]\n",
      " ['Спрей-кондиционер Angel Professional Color Protect Защита цвета' 'IMG'\n",
      "  2348 31 12734 144]\n",
      " ['Консистенция спрея двухфазная, поэтому перед применением нужно взболтать бутылку. Распыление широким мелкодисперсным облаком'\n",
      "  'IMG' 2403 31 13108 144]\n",
      " ['Кому подойдет этот спрей: здесь точно так же: поврежденным, окрашенным волосам подойдет идеально, а более здоровым волосам - постолько, поскольку. Цена: 920р Объем: 250мл Оценка: 5'\n",
      "  'Срок тестирования: 2 месяца.' 2495 2041 13641 11031]\n",
      " ['Кому подойдет этот спрей: здесь точно так же: поврежденным, окрашенным волосам подойдет идеально, а более здоровым волосам - постолько, поскольку. Цена: 920р Объем: 250мл'\n",
      "  'Оценка: 5' 2495 2038 13641 11021]\n",
      " ['Цена: 920р' 'Объем: 250мл' 2521 2031 13788 11000]\n",
      " ['Термозащитный крем для выпрямления Kaaral Pink Up' 'IMG' 2538 31 13851\n",
      "  144]\n",
      " ['Крем обладает плотной силиконистой текстурой, и пахнет карамельками.'\n",
      "  'IMG' 2572 31 14056 144]\n",
      " ['Кому подойдет этот крем: всем тем, кто так или иначе пользуется термоприборами и не гнушается силиконами, а в средстве их много. Цена: 600р+ (средство снято с производства) Объем: 250мл'\n",
      "  'Оценка: 5' 2641 2038 14474 11021]\n",
      " ['Цена: 600р+ (средство снято с производства)' 'Объем: 250мл' 2666 2031\n",
      "  14603 11000]\n",
      " ['Аргановое масло для волос с частицами золота Tahe Keratin gold' 'IMG'\n",
      "  2691 31 14712 144]\n",
      " ['На официальном сайте есть информация о том, что средство содержит в себе микрочастицы золота, однако мне в это верится с трудом, поскольку масло абсолютно прозрачное, по консистенции средней густоты.'\n",
      "  'IMG' 2751 31 15078 144]\n",
      " ['Кому подойдет это масло: всем тем, кто любит ухаживать за волосами и не боится силиконов. Мне кажется, оно подойдет любому типу волос. Цена: 1000р Объем: 30мл'\n",
      "  'Оценка: 5' 2786 2038 15282 11021]]\n",
      "Unable to locate first snippet >>> [['Применен относительно элегантный способ запроса состояния локального сервера - путем передачи изображения определенного формата.'\n",
      "  'IMG' 243 217 1458 1274]\n",
      " ['Выглядит этот запрос примерно так:' 'IMG' 283 217 1762 1274]\n",
      " ['Дальше стоит посмотреть на параметры самой веб-конференции:' 'IMG' 313\n",
      "  217 1971 1274]\n",
      " ['У вас есть возможность принудительного включения веб-камеры пользователя. То есть вы можете заманить ничего не подозревающего человека на конференц-звонок и сразу же получить изображение с камеры (но звук с микрофона жертве нужно будет включить вручную). В клиенте Zoom автоматическое включение камеры можно заблокировать, но с настройками по умолчанию камера включается сразу же. Кстати, если отправлять запросы на подключение к конференции непрерывно, приложение Zoom будет постоянно переключать фокус на себя, не давая пользователю возможности как-то отменить это действие. Это классическая атака Denial Of Service.'\n",
      "  'IMG' 322 217 2035 1274]]\n",
      "Unable to locate first snippet >>> [['Видим сработавший ACL:' '[код]' 407 404 2182 2176]\n",
      " ['И далее:' '[код]' 414 404 2211 2176]\n",
      " ['начинается вызов:' '[код]' 691 404 3610 2176]\n",
      " ['ACL не пропустил:' '[код]' 697 404 3634 2176]\n",
      " ['и далее:' '[код]' 704 404 3658 2176]]\n",
      "Unable to locate first snippet >>> [['Несмотря на довольно внушительные размеры LG G7 ThinQ, за счет вытянутого дисплея и небольшой ширины его довольно удобно держать в'\n",
      "  'IMG' 506 24 3018 98]\n",
      " ['Наверное, каждый пользователь, приобретающий флагманский смартфон, ждет от его камеры максимального качества снимков.'\n",
      "  'IMG' 1198 24 7070 98]]\n",
      "Unable to locate first snippet >>> [['На что в качестве возражения с моей стороны был приведен следующий блок кода, показывающий, что анонимная функция может быть удалена как обработчик:'\n",
      "  '[код]' 172 169 935 929]\n",
      " ['откуда получаем следующие вариации для метода:' '[код]' 891 169 5036\n",
      "  929]\n",
      " ['Также подобные префиксы в именах имеют функции, созданные как getter-метод объекта или setter-метод объекта, согласно 14.3.9 Runtime Semantics: PropertуDefinitionEvaluation,'\n",
      "  'например: [код]' 1374 1371 7696 7680]]\n",
      "Unable to locate first snippet >>> [['Если дать на нее посмотреть человеку, не укушенному веб-пропагандой,'\n",
      "  'иллюзия пропадает.' 562 559 3013 2994]\n",
      " ['Как только приложение открывает кто-то, отличный от его собственного разработчика на гигабитном интернете и двенадцатиядерном аймаке про,'\n",
      "  'иллюзия пропадает.' 576 559 3101 2994]]\n",
      "Unable to locate first snippet >>> [['Внутри, на наполнителе в виде красной бумажной стружки, располагаются три продукта, а на внутренней стороне верхней части коробки есть приветственная наклейка от производителя.'\n",
      "  'IMG IMG IMG' 192 169 1152 993]\n",
      " ['Благодаря высокоэффективным ингредиентам, превращает волосы в блестящую гладкую материю.'\n",
      "  'IMG IMG' 270 169 1605 993]\n",
      " ['Точнее нет: Обязательно нужно мыть! Даже если вы решите «замаскировать» волосы в «хвост».'\n",
      "  'IMG' 394 23 2403 107]\n",
      " ['Разглаживает и придает роскошный блеск тусклым волосам, укрощает и распутывает непослушные пряди.'\n",
      "  'IMG IMG' 453 169 2673 993]\n",
      " ['Какого-то питательного эффекта от продукта я не заметила, только волосы действительно чуть-чуть распутывает, делая их более гладкими и действительно ослепительно блестящими. На этом все. На мой взгляд, это больше бальзам, нежели дополнительный уход. IMG'\n",
      "  '6/10оценка' 529 418 3175 2506]\n",
      " ['На мой взгляд, это больше бальзам, нежели дополнительный уход.' 'IMG'\n",
      "  557 23 3362 107]\n",
      " ['Укрепляет волосы по всей длине, разглаживает, придает блеск, облегчает расчесывание и защищает от термовоздействия при использовании фена.'\n",
      "  'IMG IMG' 602 169 3568 993]\n",
      " ['Я делаю 4 нажатия на помпу и получившуюся порцию наношу от середины длины волос до кончиков. Впитывается моментально, совершенно не жирнит волосы, чего я крайне опасалась, действительно питает и укрепляет их. Расход экономичный. Разглаживания и особенного блеска прядей я не заметила. На счет термозащиты сказать ничего не могу, так как феном и другими средствами для горячей укладки практически не пользуюсь, но хочется верить, что она все-таки присутствует. IMG 472$цена 7/10оценка'\n",
      "  '2 месяца, 4р/в неделюиспользование' 765 420 4490 2517]\n",
      " ['Я делаю 4 нажатия на помпу и получившуюся порцию наношу от середины длины волос до кончиков. Впитывается моментально, совершенно не жирнит волосы, чего я крайне опасалась, действительно питает и укрепляет их. Расход экономичный. Разглаживания и особенного блеска прядей я не заметила. На счет термозащиты сказать ничего не могу, так как феном и другими средствами для горячей укладки практически не пользуюсь, но хочется верить, что она все-таки присутствует.'\n",
      "  'IMG' 765 23 4490 107]]\n",
      "Unable to locate first snippet >>> [['Я написал в какой-то момент простой визуализатор через println и clear screen, он даже мультики показывал типа, но хотелось бы чего-то более удобного и универсального.'\n",
      "  'IMG' 1337 246 7142 1231]\n",
      " ['Иногда как раз такие странные косяки ловить, когда вроде и все еще работает, но какое-то ожидание нарушено, и значит где-то что-то пошло не так, как ты думал.'\n",
      "  'IMG' 1438 246 7704 1231]]\n",
      "Unable to locate first snippet >>> [['Не покупки домов, не приобретения автомобиля, не оплаты образования –'\n",
      "  'еды.' 199 197 1181 1176]]\n",
      "Unable to locate first snippet >>> [['«В случае с «Яндекс.Почта» он вырабатывается, когда пользователь только заходит на страницу mail.уandeх.ru, а прекращает свое действие в зависимости от настроек через какое-то время, после того как пользователь либо закроет вкладку «Яндекс.Почта», либо полностью закроет браузер, либо выключит компьютер»,'\n",
      "  '- говорит он.' 340 281 1930 1575]]\n",
      "Unable to locate first snippet >>> [['Но спешно - отменив назначенное совещание - едет в офис «Роснефти» по первому звонку Сечина.'\n",
      "  'Зачем?' 992 440 5221 2458]]\n",
      "Unable to locate first snippet >>> [['Однако нетерпеливые люди, желающие получать все и сразу, могут и от короткой разлуки'\n",
      "  'при взаимной любви' 294 279 1795 1704]]\n",
      "Unable to locate first snippet >>> [['Например вот щенок из этого скрина. Щенок из собачьего ада в Балашихе Голдик. Фото сделано в 4 месяца, новое фото возможности сделать нет, по словам куратора. И я понимаю почему. В квартире его фотографировать нельзя - там филиал помойки. А на улице эта собака будет ползать на брюхе от страха. Кобелю между прочим сейчас два года. Это фактически приговор. Он никогда не станет собакой-компаньоном.'\n",
      "  'IMG' 1159 38 6276 200]\n",
      " ['Я не знаю, почему об эксплуатации больной женщины зоошизой не хотят говорить волонтеры и сотрудники фонда. Возможно, тоже боятся попасть под раздачу и узнать, что они не спасители детей, а сволочи-живодеры. Они в курсе, что Надежде свозили животных со всей округи, и женщина явно не из тех, кто будет героически молчать, но не сдаст имена зоошизы. Впрочем, возможно, сотрудники фонда просто очень заняты. Они ищут журналистов, готовых писать об истории семьи из Балашихи без общения с соседями и опекой и защищать право детей расти под присмотром любящих мамы и папы. Среди духовного богатства, тараканов, экскрементов и десятков животных. Потому что без боя зоошиза никогда не откажется от дешевой и дружелюбной передержки с \"ветеринарным сопровождением\", как представят ее жертвователям, едва старшая дочь Нади получит диплом ветеринара.'\n",
      "  'IMG-TXT' 1638 1637 8975 8967]]\n",
      "Unable to locate first snippet >>> [['Французский архитектор Артур Маму-Мани, работающий с биопластиком для 3D-печати,'\n",
      "  'утверждает,' 705 557 4377 3435]]\n",
      "Unable to locate first snippet >>> [['Они открывают библиотеки для всех желающих, сдают в них вещи в аренду и даже устанавливают швейные машинки и паяльные станции, которыми может воспользоваться любой желающий.'\n",
      "  'IMG' 260 217 1437 1207]\n",
      " ['Выбирайте любую удобную позу, никто на вас косо не посмотрит.' 'IMG'\n",
      "  437 217 2434 1207]\n",
      " ['Идеальный пример экономики совместного потребления, когда вы не покупаете инструменты, а арендуете при необходимости.'\n",
      "  'IMG' 542 217 3061 1207]\n",
      " ['В Oodi полно удобных открытых пространств с розетками. Вы можете пользоваться компьютерами, принтерами, ксероксами-сканерами и Wi-Fi.'\n",
      "  'IMG' 589 217 3360 1207]\n",
      " ['Кофе с книгой - что еще нужно для счастья?' 'IMG' 701 217 4018 1207]]\n",
      "Unable to locate first snippet >>> [['Как тут вообще можно жить?' 'IMG' 448 375 2502 2155]\n",
      " ['Прогресс пошел назад в Москве, мы устроили какой-то ад вместо города'\n",
      "  'IMG' 511 375 2835 2155]\n",
      " ['Сколько тут до окон, 20 метров?' 'IMG' 554 375 3080 2155]\n",
      " ['Это просто безумие' 'IMG' 563 375 3116 2155]]\n",
      "Unable to locate first snippet >>> [['А нужно делать деревянные понтонные набережные и выходы к воде, люди это любят'\n",
      "  'IMG' 393 206 2192 1158]\n",
      " ['А надо совсем не так' 'IMG' 545 206 3080 1158]\n",
      " ['Мы, конечно, предлагаем общественное пространство с катком, детскими площадками, лавочками и прочим'\n",
      "  'IMG' 740 206 4096 1158]\n",
      " ['Но кому это интересно кроме нас с вами?' 'IMG' 839 206 4624 1158]\n",
      " ['Мы для примера проиллюстрировали, как могло бы быть все на Смоленке'\n",
      "  'IMG' 885 206 4899 1158]\n",
      " ['Еще один проект - типичный небольшой сквер в историческом центре Петербурга, мы назвали его Сквер Земцова. Опять заброшенное и запаркованное общественное пространство в очень крутом месте, больно смотреть на это все'\n",
      "  'IMG' 958 206 5336 1158]]\n",
      "Unable to locate first snippet >>> [['Срок годности: 12 месяцев' 'Состав: IMG' 617 291 3372 1552]\n",
      " ['При таком применении даже добиваю вторую банку, но больше повторять не буду, наверное)) 500$цена 7/10оценка'\n",
      "  '5 месяцев, 3р/в неделюиспользование' 756 564 4164 3124]\n",
      " ['Есть удобная пипетка, которая хорошо набирает и выдает продукт. IMG'\n",
      "  'Объем: 30 мл Срок годности: 12 месяцев Состав: IMG' 857 613 4646 3359]]\n",
      "Unable to locate first snippet >>> [['Он же является перевалочной базой для путешествий в Антарктиду как круизов, так и остальных.'\n",
      "  'IMG' 4200 1413 23990 8281]\n",
      " ['и катают ошалевших от своего географического местоположения туриcтов. IMG IMG IMG IMG'\n",
      "  'IMG IMG' 4481 1469 25599 8609]]\n",
      "Unable to locate first snippet >>> [['Первые руины на пути, которые я увидел, предположительно были трапезной. Это крупное строение, сложенное из тесанного камня. Сейчас оно засыпано землей и камнями настолько, что единственный путь проходит выше уровня окон-бойниц. Внутри трапезной растет молодое дерево.'\n",
      "  'IMG' 3393 89 19537 513]\n",
      " ['В Хопу я вернулся поздно вечером. Хозяин волновался. Оказывается он многократно писал мне, но по причине отсутствия связи его сообщения я получил с большой задержкой. К счастью, ему нужно было ехать к границе, и, воспользовавшись его предложением подвезти, я существенно ускорил возвращение в Батуми.'\n",
      "  'IMG' 4551 89 26120 513]]\n",
      "Unable to locate first snippet >>> [['Хороший пляж несколько километров длиной,' 'очень мало людей.' 1049\n",
      "  139 5383 627]]\n",
      "Unable to locate first snippet >>> [['Сложно представить, насколько тут живописно, когда выпадает снег.'\n",
      "  'IMG' 761 24 4255 110]]\n",
      "Unable to locate first snippet >>> [['Так вот, начали мы непосредственное знакомство с Улан-Батором с ресторана с буддийского монастыря Гандан (основной религией в Монголии является тибетский буддизм) - это крупнейший монастырь в Монголии.'\n",
      "  'IMG' 624 84 3099 383]\n",
      " ['Закончили первый день в Улан-Баторе концертом народного фольклора. Вот это действо, считаю, пропускать нельзя. Одно выступление с горловым пением чего стоит! Пожалуй, такого я не слышала, уж вживую - точно. Да, на концерт советую прийти заранее, чтобы занять хорошие места (билеты продаются без мест), иначе потом вас атакуют со всех сторон корейцы и придется ютиться где попало.'\n",
      "  'IMG' 938 84 4906 383]]\n",
      "Unable to locate first snippet >>> [['Очень жаль, я уже высказывался по этому поводу, хочу повторить: люди, настроенные экстремистски, они, как правило, люди ограниченные и не отдают себе отчет в том, что даже если, как они думают, они ставят перед собой благородные цели, то, совершая террористические акты, они отдаляются, все дальше и дальше уходят от достижения тех, на первый взгляд даже благородных, может быть, целей, вообще уходят за горизонт»'\n",
      "  'сказал Путин.' 228 144 1352 840]]\n",
      "Unable to locate first snippet >>> [['\"Я не политолог, но считаю, что никто не сможет разжечь подобные протесты. Даже самые крупные акции были скромными по численности и не длились более нескольких дней\",'\n",
      "  '- пояснил он.' 908 813 5680 5072]\n",
      " ['\"Евросоюз стремится не только к диверсификации поставщиков, но и к снижению объемов потребления и увеличению доли возобновляемых источников энергии. Для обоих проектов может не хватить места\",'\n",
      "  '- пояснил он.' 2249 813 13565 5072]\n",
      " ['\"Я ожидал, что работы начнутся гораздо быстрее. Мы еще ничего не знаем о \"Турецком потоке\", кроме намерений \"Газпрома\". Мы не знаем, дало ли турецкое правительство окончательное согласие; началась ли разведка морского дна; когда будут прокладывать трубы и так далее\",'\n",
      "  '- уточнил он.' 2478 1690 14975 10342]]\n",
      "Unable to locate first snippet >>> [['\"Китай поддерживает споры о границах и выступает с неправомерными претензиями на крупные участки индийской территории: от региона Аксайчин на севере до всего региона Аруначал-Прадеш на востоке\",'\n",
      "  '- пишет Субхаш Капила.' 537 199 3504 1244]\n",
      " ['\"Пакистан получает все меньше помощи из США и Саудовской Аравии, и вскоре ему придется полагаться только на Китай. В свою очередь Пекин также может пойти на сближение с Исламабадом из-за стратегической изоляции в Восточной Азии\",'\n",
      "  '- предполагает Субхаш Капила.' 889 779 5774 5067]]\n",
      "Unable to locate first snippet >>> [['- отвечаем, -' 'нет.' 2282 286 13376 1570]]\n",
      "Unable to locate first snippet >>> [['\"Вспомним, что договор о РСМД помог покончить с холодной войной, которая фактически являлась полномасштабной гонкой вооружений между США и СССР. Если страны выйдут из договора, который положил начало международной кампании по ядерному разоружению, они своими же руками развяжут [новую] гонку, и в дальнейшем все может пойти по сценарию событий на Кубе [в октябре 1962 года]\",'\n",
      "  '- сказал эксперт.' 2358 1576 14822 9943]]\n",
      "Unable to locate first snippet >>> [['Кроме того, КСОР ОДКБ,' 'по словам эксперта,' 1735 1349 11655 9002]\n",
      " ['\"В этом году в Таджикистане на границе с Афганистаном прошли масштабные маневры сил ОДКБ. Это важно с военной точки зрения, ибо позволило отработать взаимодействие и быстрое реагирование на кризисную ситуацию, а также важно с политической и психологической стороны: жители удаленных районов Таджикистана увидели, что ОДКБ их не бросит, что организация в состоянии помочь не только словом, но и делом. А боевики с сопредельных афганских районов получили сигнал о том, что с соседями лучше жить в мире ― у них есть серьезные защитники\",'\n",
      "  '― добавил он.' 2194 1731 14604 11641]]\n",
      "Unable to locate first snippet >>> [['\"Синдзо Абэ пока рано праздновать победу. Пацифизм в Японии укоренился гораздо глубже, чем могло показаться после столь легкого принятия закона, и борьба за сущность государства, возможно, еще только начинается\",'\n",
      "  '- пишет Захари Филингхам.' 1100 670 7027 4321]]\n",
      "Unable to locate first snippet >>> [['\"В стране проживает многочисленное мусульманское население, среди которого может быть внушительное число радикалов и экстремистов, способных служить в качестве человеческих ресурсов при проведении террористических актов ― их число, вероятно, достигает нескольких тысяч. Париж постоянно находится в фокусе международных информационных агентств, поэтому любые осуществленные здесь атаки получат всемирную огласку в СМИ. Будучи светским государством, Франция является культурным символом западной цивилизации. Кроме того, страна принимает непосредственное участие в воздушных ударах по позициям \"Исламского государства\", становясь их заклятым врагом\",'\n",
      "  '― сказал аналитик.' 1010 975 6416 6155]]\n"
     ]
    }
   ],
   "source": [
    "for filename, df in tqdm(table.groupby('filename')):\n",
    "    annot = read_annotation(os.path.join('data', filename))\n",
    "    features = features_processor(df, \n",
    "                                  annot['text'], annot['tokens'], \n",
    "                                  annot['sentences'], annot['lemma'], \n",
    "                                  annot['morph'], annot['ud_postag'], \n",
    "                                  annot['syntax_dep_tree'])\n",
    "    features.to_pickle(filename + '.gold.pkl')"
   ]
  },
  {
   "cell_type": "code",
   "execution_count": 13,
   "metadata": {},
   "outputs": [
    {
     "data": {
      "application/vnd.jupyter.widget-view+json": {
       "model_id": "6d9c3ed3c28c494e993db9bcc73acab3",
       "version_major": 2,
       "version_minor": 0
      },
      "text/plain": [
       "  0%|          | 0/233 [00:00<?, ?it/s]"
      ]
     },
     "metadata": {},
     "output_type": "display_data"
    }
   ],
   "source": [
    "for pklfile in tqdm(glob.glob('data/*.gold.pkl')):\n",
    "    features = pd.read_pickle(pklfile)\n",
    "    merge = pd.merge(features, table, on=['snippet_x', 'snippet_y'])\n",
    "    features['category_id'] = merge.category_id_y\n",
    "    features['order'] = merge.order_y\n",
    "    features['filename'] = merge.filename_y\n",
    "    if 'level_0' in features.keys():\n",
    "        features = features.drop(columns=['level_0'])\n",
    "    features.to_pickle(pklfile)"
   ]
  }
 ],
 "metadata": {
  "kernelspec": {
   "display_name": "Python 3",
   "language": "python",
   "name": "python3"
  },
  "language_info": {
   "codemirror_mode": {
    "name": "ipython",
    "version": 3
   },
   "file_extension": ".py",
   "mimetype": "text/x-python",
   "name": "python",
   "nbconvert_exporter": "python",
   "pygments_lexer": "ipython3",
   "version": "3.7.4"
  }
 },
 "nbformat": 4,
 "nbformat_minor": 2
}
