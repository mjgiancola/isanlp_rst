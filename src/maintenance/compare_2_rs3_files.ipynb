{
 "cells": [
  {
   "cell_type": "code",
   "execution_count": null,
   "id": "38c19a4f-8918-4f4c-808d-9aae595cd6c4",
   "metadata": {
    "pycharm": {
     "name": "#%%\n"
    }
   },
   "outputs": [],
   "source": [
    "%load_ext autoreload\n",
    "%autoreload 2\n",
    "%config Completer.use_jedi = False"
   ]
  },
  {
   "cell_type": "markdown",
   "id": "5e9e4e6d-a2f8-49d6-9c71-27590e0419ca",
   "metadata": {
    "pycharm": {
     "name": "#%% md\n"
    }
   },
   "source": [
    "### Compare two rs3 files\n",
    " - Parseval metrics as for the parser\n",
    " - Inter-annotator aggreement from https://aclanthology.org/W19-2712.pdf"
   ]
  },
  {
   "cell_type": "code",
   "execution_count": null,
   "id": "d3b45244-b4e9-445f-9f7b-85495fee9ed5",
   "metadata": {
    "pycharm": {
     "name": "#%%\n"
    }
   },
   "outputs": [],
   "source": [
    "from utils.dataset.rs3_forest_splitter import RS3ForestSplitter\n",
    "from utils.dataset.rst2dis_converter import split_seq, RST2DISConverter\n",
    "from utils.dataset.dis_file_reading import *\n",
    "from utils.discourseunit2str import *\n",
    "from utils import metrics\n",
    "import subprocess\n",
    "import os\n",
    "import glob"
   ]
  },
  {
   "cell_type": "code",
   "execution_count": null,
   "id": "db592537-7392-4936-9537-83911e035b01",
   "metadata": {
    "pycharm": {
     "name": "#%%\n"
    }
   },
   "outputs": [],
   "source": [
    "def split_forest_rs3(filename1, filename2, output_dir):\n",
    "    \"\"\" Makes in output_dir two subdirectories with separate trees:\n",
    "        file1/part_0.rs3\n",
    "        ...\n",
    "        file1/part_n.rs3\n",
    "        file2/part_0.rs3\n",
    "        ...\n",
    "        file2/part_m.rs3\n",
    "    \"\"\"\n",
    "    \n",
    "    os.mkdir(output_dir + '/file1')\n",
    "    os.mkdir(output_dir + '/file2')\n",
    "    \n",
    "    splitter = RS3ForestSplitter()\n",
    "    splitter(filename1, output_dir + '/file1')\n",
    "    splitter(filename2, output_dir + '/file2')\n",
    "    \n",
    "    for d in ('file1', 'file2'):\n",
    "        for file in glob.glob(f'temp/{d}/*.rs3'):\n",
    "            new_filename = 'part_' + file.split('_part_')[-1]\n",
    "            with open(file, 'r') as f:\n",
    "                contents = f.read()\n",
    "            os.remove(file)\n",
    "            with open(f'{output_dir}/{d}/{new_filename}', 'w') as f:\n",
    "                f.write(contents)\n",
    "                \n",
    "\n",
    "def run_rsttace(input_dir):\n",
    "    \"\"\" Runs rsttace to compute inter-annotation aggreement metrics between each pair:\n",
    "        input_dir/file1/part_n.rs3\n",
    "        input_dir/file2/part_n.rs3\n",
    "    \"\"\"\n",
    "    \n",
    "    subprocess.run(['rsttace', 'compare', os.path.join(input_dir, 'file1'), os.path.join(input_dir, 'file2'), '-o', input_dir])\n",
    "\n",
    "def run_parseval(input_dir, matching_trees=False):\n",
    "    \"\"\" a) Converts input_dir/file_*/*.rs3 to *.dis files\n",
    "        b) Loads them in DiscourseUnit objects\n",
    "        c) Computes Parseval score for each tree pair\n",
    "    \"\"\"\n",
    "    \n",
    "    # Convert to *.dis\n",
    "    converter_url = 'localhost:5000'  # <- Put address of the rst converter service here\n",
    "    converter_threads = 1\n",
    "    for part in ('file1', 'file2'):\n",
    "        files = glob.glob(os.path.join(input_dir, part, '*.rs3'))\n",
    "        for batch in split_seq(files, converter_threads):\n",
    "            t = RST2DISConverter(converter_url, batch, output_dir=os.path.join(input_dir, part))\n",
    "            t.start()\n",
    "            t.join()\n",
    "    \n",
    "    # Collect trees to structures\n",
    "    structures = dict()\n",
    "    for part in ('file1', 'file2'):\n",
    "        file = glob.glob(os.path.join(input_dir, part, '*part_0.dis'))[0]\n",
    "        trees = []\n",
    "        for i in range(100):\n",
    "            _file = file.replace('part_0', f'part_{i}')\n",
    "            if not os.path.isfile(_file):\n",
    "                break\n",
    "            try:\n",
    "                trees.append(read_dis(_file))\n",
    "            except Exception as e:\n",
    "                print(e)\n",
    "        structures[part] = trees\n",
    "\n",
    "    # Computes Parseval for separate trees and whole document\n",
    "    if matching_trees:\n",
    "        counter = iter(range(len(structures['file1'])))\n",
    "        for tree1, tree2 in zip(structures['file1'], structures['file2']):\n",
    "            struct1 = get_docs_structure_charsonly([tree1], needs_preprocessing=False)\n",
    "            struct2 = get_docs_structure_charsonly([tree2], needs_preprocessing=False)\n",
    "            local_metric = metrics.DiscourseMetricDoc(eps=1e-10)\n",
    "            local_metric(golds=struct1, preds=struct2)\n",
    "            print(f'paragraph {next(counter)}:\\t', local_metric)\n",
    "\n",
    "    print()    \n",
    "    global_metric = metrics.DiscourseMetricDoc(eps=1e-20)\n",
    "    golds = get_docs_structure_charsonly(structures['file1'], needs_preprocessing=False)\n",
    "    preds = get_docs_structure_charsonly(structures['file2'], needs_preprocessing=False)\n",
    "    global_metric(golds=golds, preds=preds)\n",
    "    print('document:\\t', global_metric)"
   ]
  },
  {
   "cell_type": "code",
   "execution_count": null,
   "id": "0b85a49b-83a2-4184-8bcf-8047e0d380f9",
   "metadata": {
    "pycharm": {
     "name": "#%%\n"
    }
   },
   "outputs": [],
   "source": [
    "directory = 'temp'\n",
    "if os.path.isdir(directory):\n",
    "    ! rm -r $directory\n",
    "    \n",
    "os.mkdir(directory)\n",
    "\n",
    "FILE1, FILE2 = 'corpus/41.txt_local.rs3', 'corpus/20.txt.rs3'\n",
    "split_forest_rs3(FILE1, FILE2, directory)\n",
    "run_rsttace(directory)\n",
    "run_parseval(directory, matching_trees=True)"
   ]
  }
 ],
 "metadata": {
  "kernelspec": {
   "display_name": "Python 3",
   "language": "python",
   "name": "python3"
  },
  "language_info": {
   "codemirror_mode": {
    "name": "ipython",
    "version": 3
   },
   "file_extension": ".py",
   "mimetype": "text/x-python",
   "name": "python",
   "nbconvert_exporter": "python",
   "pygments_lexer": "ipython3",
   "version": "3.7.4"
  }
 },
 "nbformat": 4,
 "nbformat_minor": 5
}