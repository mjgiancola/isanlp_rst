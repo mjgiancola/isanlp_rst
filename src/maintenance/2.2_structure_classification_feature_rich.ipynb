{
 "cells": [
  {
   "cell_type": "markdown",
   "metadata": {},
   "source": [
    "## Binary structure classification used in tree building: Step 2. Feature-rich approach\n",
    "\n",
    "Train models, save the best one.\n",
    "\n",
    "Output:\n",
    " - ``models/structure_predictor_baseline/*``"
   ]
  },
  {
   "cell_type": "code",
   "execution_count": 1,
   "metadata": {
    "scrolled": false
   },
   "outputs": [],
   "source": [
    "%load_ext autoreload\n",
    "%autoreload 2"
   ]
  },
  {
   "cell_type": "code",
   "execution_count": 2,
   "metadata": {},
   "outputs": [],
   "source": [
    "import os\n",
    "import glob\n",
    "import pandas as pd\n",
    "import pickle\n",
    "from utils.file_reading import read_edus, read_gold, read_negative, read_annotation\n",
    "from utils.prepare_sequence import _prepare_sequence\n",
    "from tqdm import tqdm_notebook as tqdm\n",
    "\n",
    "random_state = 45"
   ]
  },
  {
   "cell_type": "markdown",
   "metadata": {},
   "source": [
    "### Make a directory"
   ]
  },
  {
   "cell_type": "code",
   "execution_count": 3,
   "metadata": {
    "scrolled": true
   },
   "outputs": [],
   "source": [
    "import os\n",
    "\n",
    "model_path = 'models/structure_predictor_baseline'\n",
    "if not os.path.isdir(model_path):\n",
    "    os.path.mkdir(model_path)"
   ]
  },
  {
   "cell_type": "markdown",
   "metadata": {},
   "source": [
    "### Prepare train/test sets "
   ]
  },
  {
   "cell_type": "code",
   "execution_count": 4,
   "metadata": {
    "scrolled": true
   },
   "outputs": [],
   "source": [
    "IN_PATH = 'data_structure'\n",
    "\n",
    "train_samples = pd.read_pickle(os.path.join(IN_PATH, 'train_samples.pkl'))\n",
    "dev_samples = pd.read_pickle(os.path.join(IN_PATH, 'dev_samples.pkl'))\n",
    "test_samples = pd.read_pickle(os.path.join(IN_PATH, 'test_samples.pkl'))"
   ]
  },
  {
   "cell_type": "code",
   "execution_count": 8,
   "metadata": {},
   "outputs": [],
   "source": [
    "drop_columns = ['snippet_x', 'snippet_y', 'category_id', \n",
    "                'snippet_x_tmp', 'snippet_y_tmp', \n",
    "                'filename', 'order', 'postags_x', 'postags_y',\n",
    "                'is_broken', 'tokens_x', 'tokens_y']\n",
    "\n",
    "y_train, X_train = train_samples['relation'].to_frame(), train_samples.drop('relation', axis=1).drop(\n",
    "    columns=drop_columns + ['category_id'])\n",
    "y_dev, X_dev = dev_samples['relation'].to_frame(), dev_samples.drop('relation', axis=1).drop(\n",
    "    columns=drop_columns + ['category_id'])\n",
    "y_test, X_test = test_samples['relation'].to_frame(), test_samples.drop('relation', axis=1).drop(\n",
    "    columns=drop_columns + ['category_id'])"
   ]
  },
  {
   "cell_type": "code",
   "execution_count": 9,
   "metadata": {
    "scrolled": true
   },
   "outputs": [],
   "source": [
    "constants = [c for c in X_train.columns if len(set(X_train[c])) == 1]"
   ]
  },
  {
   "cell_type": "code",
   "execution_count": 10,
   "metadata": {},
   "outputs": [],
   "source": [
    "X_train = X_train.drop(columns=constants)\n",
    "X_dev = X_dev.drop(columns=constants)\n",
    "X_test = X_test.drop(columns=constants)"
   ]
  },
  {
   "cell_type": "markdown",
   "metadata": {},
   "source": [
    "### Classifiers training "
   ]
  },
  {
   "cell_type": "code",
   "execution_count": 11,
   "metadata": {
    "scrolled": true
   },
   "outputs": [],
   "source": [
    "from sklearn.preprocessing import StandardScaler\n",
    "from sklearn.preprocessing import MinMaxScaler, RobustScaler\n",
    "\n",
    "std_scaler = MinMaxScaler().fit(X_train.values)\n",
    "\n",
    "X_train = pd.DataFrame(std_scaler.transform(X_train.values), index=X_train.index, columns=X_train.columns)\n",
    "X_dev = pd.DataFrame(std_scaler.transform(X_dev.values), index=X_dev.index, columns=X_dev.columns)\n",
    "X_test = pd.DataFrame(std_scaler.transform(X_test.values), index=X_test.index, columns=X_test.columns)"
   ]
  },
  {
   "cell_type": "code",
   "execution_count": 12,
   "metadata": {},
   "outputs": [
    {
     "data": {
      "text/plain": [
       "(47372, 2029)"
      ]
     },
     "execution_count": 12,
     "metadata": {},
     "output_type": "execute_result"
    }
   ],
   "source": [
    "X_train.shape"
   ]
  },
  {
   "cell_type": "code",
   "execution_count": 13,
   "metadata": {
    "scrolled": false
   },
   "outputs": [
    {
     "name": "stderr",
     "output_type": "stream",
     "text": [
      "/opt/.pyenv/versions/3.7.4/lib/python3.7/site-packages/sklearn/utils/validation.py:760: DataConversionWarning: A column-vector y was passed when a 1d array was expected. Please change the shape of y to (n_samples, ), for example using ravel().\n",
      "  y = column_or_1d(y, warn=True)\n"
     ]
    },
    {
     "data": {
      "text/plain": [
       "LogisticRegression(C=0.0005, class_weight='balanced', dual=False,\n",
       "                   fit_intercept=True, intercept_scaling=1, l1_ratio=None,\n",
       "                   max_iter=100, multi_class='auto', n_jobs=4, penalty='l2',\n",
       "                   random_state=45, solver='lbfgs', tol=0.0001, verbose=0,\n",
       "                   warm_start=False)"
      ]
     },
     "execution_count": 13,
     "metadata": {},
     "output_type": "execute_result"
    }
   ],
   "source": [
    "from sklearn.linear_model import LogisticRegression\n",
    "from sklearn.pipeline import Pipeline\n",
    "\n",
    "\n",
    "model = LogisticRegression(solver='lbfgs', C=0.0005, n_jobs=4, class_weight='balanced', random_state=random_state)\n",
    "model.fit(X_train, y_train)"
   ]
  },
  {
   "cell_type": "code",
   "execution_count": 14,
   "metadata": {},
   "outputs": [
    {
     "name": "stdout",
     "output_type": "stream",
     "text": [
      "pr: 0.6042488619119879\n",
      "re: 0.709045584045584\n",
      "f1: 0.6524660003277077\n",
      "\n",
      "              precision    recall  f1-score   support\n",
      "\n",
      "           0       0.84      0.77      0.81      5744\n",
      "           1       0.60      0.71      0.65      2808\n",
      "\n",
      "    accuracy                           0.75      8552\n",
      "   macro avg       0.72      0.74      0.73      8552\n",
      "weighted avg       0.77      0.75      0.76      8552\n",
      "\n"
     ]
    }
   ],
   "source": [
    "from sklearn import metrics\n",
    "\n",
    "\n",
    "predicted = model.predict(X_test)\n",
    "print('pr:', metrics.precision_score(y_test, predicted))\n",
    "print('re:', metrics.recall_score(y_test, predicted))\n",
    "print('f1:', metrics.f1_score(y_test, predicted))\n",
    "print()\n",
    "print(metrics.classification_report(y_test, predicted))"
   ]
  },
  {
   "cell_type": "code",
   "execution_count": 19,
   "metadata": {},
   "outputs": [
    {
     "name": "stdout",
     "output_type": "stream",
     "text": [
      "Fitting 10 folds for each of 4 candidates, totalling 40 fits\n"
     ]
    },
    {
     "name": "stderr",
     "output_type": "stream",
     "text": [
      "[Parallel(n_jobs=-1)]: Using backend LokyBackend with 16 concurrent workers.\n",
      "[Parallel(n_jobs=-1)]: Done   9 tasks      | elapsed:   49.1s\n",
      "[Parallel(n_jobs=-1)]: Done  30 out of  40 | elapsed:  7.9min remaining:  2.6min\n",
      "[Parallel(n_jobs=-1)]: Done  40 out of  40 | elapsed:  9.7min finished\n",
      "/opt/.pyenv/versions/3.7.4/lib/python3.7/site-packages/sklearn/utils/validation.py:760: DataConversionWarning: A column-vector y was passed when a 1d array was expected. Please change the shape of y to (n_samples, ), for example using ravel().\n",
      "  y = column_or_1d(y, warn=True)\n"
     ]
    },
    {
     "data": {
      "text/plain": [
       "({'C': 0.1}, 0.7692939929204073)"
      ]
     },
     "execution_count": 19,
     "metadata": {},
     "output_type": "execute_result"
    }
   ],
   "source": [
    "from sklearn.model_selection import GridSearchCV\n",
    "from sklearn.linear_model import LogisticRegression\n",
    "\n",
    "params = {\n",
    " 'C':[0.01, 0.1, 0.5, 1.,]\n",
    "}\n",
    "model = GridSearchCV(estimator=LinearSVC(random_state=random_state, class_weight='balanced'), \n",
    "                     param_grid=params, \n",
    "                     scoring = 'f1_macro',\n",
    "                     n_jobs=-1, cv=10, verbose=2)\n",
    "model.fit(X_train, y_train)\n",
    "model.best_params_, model.best_score_"
   ]
  },
  {
   "cell_type": "code",
   "execution_count": 15,
   "metadata": {},
   "outputs": [
    {
     "name": "stderr",
     "output_type": "stream",
     "text": [
      "/opt/.pyenv/versions/3.7.4/lib/python3.7/site-packages/sklearn/utils/validation.py:760: DataConversionWarning: A column-vector y was passed when a 1d array was expected. Please change the shape of y to (n_samples, ), for example using ravel().\n",
      "  y = column_or_1d(y, warn=True)\n"
     ]
    },
    {
     "data": {
      "text/plain": [
       "LinearSVC(C=0.1, class_weight='balanced', dual=True, fit_intercept=True,\n",
       "          intercept_scaling=1, loss='squared_hinge', max_iter=1000,\n",
       "          multi_class='ovr', penalty='l2', random_state=45, tol=0.0001,\n",
       "          verbose=0)"
      ]
     },
     "execution_count": 15,
     "metadata": {},
     "output_type": "execute_result"
    }
   ],
   "source": [
    "from sklearn.svm import LinearSVC\n",
    "\n",
    "model = LinearSVC(random_state=random_state, C=0.1, class_weight='balanced')\n",
    "model.fit(X_train, y_train)"
   ]
  },
  {
   "cell_type": "code",
   "execution_count": 17,
   "metadata": {},
   "outputs": [
    {
     "name": "stdout",
     "output_type": "stream",
     "text": [
      "f1: 72.03\n",
      "pr: 66.91\n",
      "re: 77.99\n",
      "\n",
      "              precision    recall  f1-score   support\n",
      "\n",
      "           0     0.8582    0.7754    0.8147      6875\n",
      "           1     0.6691    0.7799    0.7203      4003\n",
      "\n",
      "    accuracy                         0.7771     10878\n",
      "   macro avg     0.7636    0.7777    0.7675     10878\n",
      "weighted avg     0.7886    0.7771    0.7800     10878\n",
      "\n"
     ]
    }
   ],
   "source": [
    "from sklearn import metrics\n",
    "\n",
    "predicted = model.predict(X_dev)\n",
    "print('f1: %.2f'%(metrics.f1_score(y_dev, predicted)*100.))\n",
    "print('pr: %.2f'%(metrics.precision_score(y_dev, predicted)*100.))\n",
    "print('re: %.2f'%(metrics.recall_score(y_dev, predicted)*100.))\n",
    "print()\n",
    "print(metrics.classification_report(y_dev, predicted, digits=4))"
   ]
  },
  {
   "cell_type": "code",
   "execution_count": 18,
   "metadata": {},
   "outputs": [
    {
     "name": "stdout",
     "output_type": "stream",
     "text": [
      "f1: 72.11\n",
      "pr: 66.10\n",
      "re: 79.31\n",
      "\n",
      "              precision    recall  f1-score   support\n",
      "\n",
      "           0     0.8744    0.7798    0.8244      5187\n",
      "           1     0.6610    0.7931    0.7211      2808\n",
      "\n",
      "    accuracy                         0.7845      7995\n",
      "   macro avg     0.7677    0.7865    0.7727      7995\n",
      "weighted avg     0.7995    0.7845    0.7881      7995\n",
      "\n"
     ]
    }
   ],
   "source": [
    "predicted = model.predict(X_test)\n",
    "print('f1: %.2f'%(metrics.f1_score(y_test, predicted)*100.))\n",
    "print('pr: %.2f'%(metrics.precision_score(y_test, predicted)*100.))\n",
    "print('re: %.2f'%(metrics.recall_score(y_test, predicted)*100.))\n",
    "print()\n",
    "print(metrics.classification_report(y_test, predicted, digits=4))"
   ]
  },
  {
   "cell_type": "code",
   "execution_count": 20,
   "metadata": {},
   "outputs": [],
   "source": [
    "model.labels = [\"0\", \"1\"]\n",
    "pickle.dump(model, open(os.path.join(model_path, 'model.pkl'), 'wb'))\n",
    "pickle.dump(std_scaler, open(os.path.join(model_path, 'scaler.pkl'), 'wb'))\n",
    "pickle.dump(constants+drop_columns, open(os.path.join(model_path, 'drop_columns.pkl'), 'wb'))"
   ]
  }
 ],
 "metadata": {
  "kernelspec": {
   "display_name": "Python 3",
   "language": "python",
   "name": "python3"
  },
  "language_info": {
   "codemirror_mode": {
    "name": "ipython",
    "version": 3
   },
   "file_extension": ".py",
   "mimetype": "text/x-python",
   "name": "python",
   "nbconvert_exporter": "python",
   "pygments_lexer": "ipython3",
   "version": "3.7.4"
  }
 },
 "nbformat": 4,
 "nbformat_minor": 2
}
