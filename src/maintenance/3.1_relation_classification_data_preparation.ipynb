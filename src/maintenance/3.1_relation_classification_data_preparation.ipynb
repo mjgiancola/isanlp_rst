{
 "cells": [
  {
   "cell_type": "markdown",
   "metadata": {},
   "source": [
    "## Rhetorical relations classification used in tree building: Step 1. Data preparation\n",
    "\n",
    "Make train/dev/test splitting, save in the corresponding .pkl files\n",
    "\n",
    "Output:\n",
    " - ``data_labeling/*``"
   ]
  },
  {
   "cell_type": "code",
   "execution_count": 1,
   "metadata": {
    "scrolled": true
   },
   "outputs": [],
   "source": [
    "%load_ext autoreload\n",
    "%autoreload 2"
   ]
  },
  {
   "cell_type": "code",
   "execution_count": 2,
   "metadata": {
    "scrolled": false
   },
   "outputs": [
    {
     "name": "stdout",
     "output_type": "stream",
     "text": [
      "news in train: 0.5344827586206896,\tin dev: 0.6470588235294118,\tin test: 0.6086956521739131\n",
      "ling in train: 0.0,\tin dev: 0.0,\tin test: 0.0\n",
      "comp in train: 0.0,\tin dev: 0.0,\tin test: 0.0\n",
      "blog in train: 0.43103448275862066,\tin dev: 0.5294117647058824,\tin test: 0.4782608695652174\n"
     ]
    }
   ],
   "source": [
    "from utils.train_test_split import split_train_dev_test\n",
    "\n",
    "train, dev, test = split_train_dev_test('./data')"
   ]
  },
  {
   "cell_type": "code",
   "execution_count": 3,
   "metadata": {},
   "outputs": [],
   "source": [
    "import pandas as pd\n",
    "from utils.file_reading import read_gold\n",
    "\n",
    "table = read_gold('data/all_pairs')\n",
    "random_state = 45\n",
    "\n",
    "train_samples = []\n",
    "test_samples = []\n",
    "dev_samples = []\n",
    "\n",
    "for file in train:\n",
    "    train_samples.append(read_gold(file.replace('.edus', ''), features=True))\n",
    "\n",
    "for file in dev:\n",
    "    dev_samples.append(read_gold(file.replace('.edus', ''), features=True))\n",
    "    \n",
    "for file in test:\n",
    "    test_samples.append(read_gold(file.replace('.edus', ''), features=True))\n",
    "\n",
    "train_samples = pd.concat(train_samples).sample(frac=1, random_state=random_state).reset_index(drop=True)\n",
    "dev_samples = pd.concat(dev_samples).sample(frac=1, random_state=random_state).reset_index(drop=True)\n",
    "test_samples = pd.concat(test_samples).sample(frac=1, random_state=random_state).reset_index(drop=True)"
   ]
  },
  {
   "cell_type": "code",
   "execution_count": 4,
   "metadata": {},
   "outputs": [
    {
     "data": {
      "text/plain": [
       "array(['solutionhood', 'joint', 'evaluation', 'preparation',\n",
       "       'cause-effect', 'elaboration', 'cause', 'background', 'sequence',\n",
       "       'restatement', 'purpose', 'evidence', 'attribution', 'contrast',\n",
       "       'condition', 'same-unit', 'interpretation-evaluation',\n",
       "       'concession', 'comparison'], dtype=object)"
      ]
     },
     "execution_count": 4,
     "metadata": {},
     "output_type": "execute_result"
    }
   ],
   "source": [
    "test_samples.category_id.unique()"
   ]
  },
  {
   "cell_type": "code",
   "execution_count": 5,
   "metadata": {},
   "outputs": [
    {
     "name": "stdout",
     "output_type": "stream",
     "text": [
      "mkdir: cannot create directory ‘data_labeling’: File exists\r\n"
     ]
    }
   ],
   "source": [
    "import os\n",
    "from utils.prepare_sequence import _prepare_sequence\n",
    "\n",
    "\n",
    "def correct_samples(row):\n",
    "    if row.snippet_x[0] in (',', '.', '!', '?'):\n",
    "        row.snippet_x = row.snippet_x[1:].strip()\n",
    "    if row.snippet_y[0] in (',', '.'):\n",
    "        row.snippet_x += row.snippet_y[0]\n",
    "        row.snippet_y = row.snippet_y[1:].strip()\n",
    "    return row\n",
    "\n",
    "def prepare_data(data, max_len=100):\n",
    "    target_map = {\n",
    "        'relation': 'joint',\n",
    "        'antithesis': 'contrast',\n",
    "        'cause': 'cause-effect',\n",
    "        'effect': 'cause-effect',\n",
    "        'conclusion': 'restatement',\n",
    "        'interpretation': 'interpretation-evaluation',\n",
    "        'evaluation': 'interpretation-evaluation',\n",
    "        'motivation': 'condition',\n",
    "    }\n",
    "\n",
    "    relation_map = {\n",
    "        'restatement_SN': 'restatement_NN',\n",
    "        'restatement_NS': 'restatement_NN',\n",
    "        'contrast_SN': 'contrast_NN',\n",
    "        'contrast_NS': 'contrast_NN',\n",
    "        'solutionhood_NS': 'elaboration_NS',\n",
    "        'preparation_NS': 'elaboration_NS',\n",
    "        'concession_SN': 'preparation_SN',\n",
    "        'evaluation_SN': 'preparation_SN',\n",
    "        'elaboration_SN': 'preparation_SN',\n",
    "        'evidence_SN': 'preparation_SN',\n",
    "        'background_SN': 'preparation_SN'\n",
    "    }\n",
    "\n",
    "    data = data[data.tokens_x.map(len) < max_len]\n",
    "    data = data[data.tokens_y.map(len) < max_len]\n",
    "    \n",
    "    data['snippet_x'] = data.tokens_x.map(lambda row: ' '.join(row))\n",
    "    data['snippet_y'] = data.tokens_y.map(lambda row: ' '.join(row))\n",
    "    \n",
    "    data = data.apply(correct_samples, axis=1)\n",
    "    \n",
    "    data = data[data.snippet_x.map(len) > 0]\n",
    "    data = data[data.snippet_y.map(len) > 0]\n",
    "    \n",
    "    data = data[data.category_id != 'span']\n",
    "    data['category_id'] = data['category_id'].map(lambda row: row.split('_')[0])\n",
    "    data['category_id'] = data['category_id'].replace([0.0], 'same-unit')\n",
    "    data['order'] = data['order'].replace([0.0], 'NN')\n",
    "    data['category_id'] = data['category_id'].replace(target_map, regex=False)\n",
    "\n",
    "    data['relation'] = data['category_id'].map(lambda row: row) + '_' + data['order']\n",
    "    data['relation'] = data['relation'].replace(relation_map, regex=False)\n",
    "    \n",
    "    data['snippet_x'] = data.snippet_x.map(_prepare_sequence)\n",
    "    data['snippet_y'] = data.snippet_y.map(_prepare_sequence)\n",
    "    \n",
    "    return data\n",
    "\n",
    "\n",
    "train_samples = prepare_data(train_samples)\n",
    "dev_samples = prepare_data(dev_samples)\n",
    "test_samples = prepare_data(test_samples)\n",
    "\n",
    "OUT_PATH = 'data_labeling'\n",
    "! mkdir $OUT_PATH\n",
    "train_samples.to_pickle(os.path.join(OUT_PATH, 'train_samples.pkl'))\n",
    "dev_samples.to_pickle(os.path.join(OUT_PATH, 'dev_samples.pkl'))\n",
    "test_samples.to_pickle(os.path.join(OUT_PATH, 'test_samples.pkl'))"
   ]
  },
  {
   "cell_type": "code",
   "execution_count": 6,
   "metadata": {
    "scrolled": true
   },
   "outputs": [
    {
     "data": {
      "text/plain": [
       "joint                        3675\n",
       "elaboration                  3158\n",
       "attribution                  1420\n",
       "cause-effect                 1339\n",
       "contrast                     1255\n",
       "interpretation-evaluation     950\n",
       "condition                     908\n",
       "sequence                      586\n",
       "purpose                       579\n",
       "preparation                   573\n",
       "same-unit                     556\n",
       "evidence                      305\n",
       "comparison                    302\n",
       "background                    282\n",
       "concession                    218\n",
       "solutionhood                  189\n",
       "restatement                   104\n",
       "Name: category_id, dtype: int64"
      ]
     },
     "execution_count": 6,
     "metadata": {},
     "output_type": "execute_result"
    }
   ],
   "source": [
    "train_samples.category_id.value_counts()"
   ]
  },
  {
   "cell_type": "code",
   "execution_count": 7,
   "metadata": {},
   "outputs": [
    {
     "data": {
      "text/plain": [
       "array([3675, 3156, 1255,  984,  832,  748,  738,  591,  586,  556,  521,\n",
       "        478,  436,  387,  302,  267,  257,  178,  129,  118,  104,  101])"
      ]
     },
     "execution_count": 7,
     "metadata": {},
     "output_type": "execute_result"
    }
   ],
   "source": [
    "counts = train_samples['relation'].value_counts(normalize=False).values\n",
    "counts"
   ]
  },
  {
   "cell_type": "code",
   "execution_count": 8,
   "metadata": {},
   "outputs": [
    {
     "data": {
      "text/plain": [
       "array([3675, 3156, 1255,  984,  832,  748,  738,  591,  586,  556,  521,\n",
       "        478,  436,  387,  302,  267,  257,  178,  129,  118,  104,  101])"
      ]
     },
     "execution_count": 8,
     "metadata": {},
     "output_type": "execute_result"
    }
   ],
   "source": [
    "counts = train_samples['relation'].value_counts(normalize=False).values\n",
    "counts"
   ]
  },
  {
   "cell_type": "code",
   "execution_count": 9,
   "metadata": {},
   "outputs": [],
   "source": [
    "all_data = pd.concat([train_samples, dev_samples, test_samples])"
   ]
  },
  {
   "cell_type": "code",
   "execution_count": 10,
   "metadata": {
    "scrolled": false
   },
   "outputs": [
    {
     "data": {
      "text/plain": [
       "joint_NN                        5122\n",
       "elaboration_NS                  4485\n",
       "contrast_NN                     1812\n",
       "attribution_SN                  1297\n",
       "interpretation-evaluation_NS    1246\n",
       "preparation_SN                  1084\n",
       "cause-effect_SN                 1067\n",
       "sequence_NN                      948\n",
       "cause-effect_NS                  857\n",
       "same-unit_NN                     789\n",
       "condition_SN                     719\n",
       "purpose_NS                       662\n",
       "attribution_NS                   564\n",
       "condition_NS                     528\n",
       "comparison_NN                    402\n",
       "background_NS                    391\n",
       "evidence_NS                      339\n",
       "solutionhood_SN                  278\n",
       "concession_NS                    176\n",
       "interpretation-evaluation_SN     166\n",
       "purpose_SN                       140\n",
       "restatement_NN                   138\n",
       "Name: relation, dtype: int64"
      ]
     },
     "execution_count": 10,
     "metadata": {},
     "output_type": "execute_result"
    }
   ],
   "source": [
    "all_data['relation'].value_counts(normalize=False)"
   ]
  },
  {
   "cell_type": "code",
   "execution_count": 11,
   "metadata": {
    "scrolled": true
   },
   "outputs": [
    {
     "data": {
      "text/plain": [
       "array([5122, 4485, 1812, 1297, 1246, 1084, 1067,  948,  857,  789,  719,\n",
       "        662,  564,  528,  402,  391,  339,  278,  176,  166,  140,  138])"
      ]
     },
     "execution_count": 11,
     "metadata": {},
     "output_type": "execute_result"
    }
   ],
   "source": [
    "counts = all_data['relation'].value_counts(normalize=False).values\n",
    "counts"
   ]
  },
  {
   "cell_type": "code",
   "execution_count": 12,
   "metadata": {},
   "outputs": [
    {
     "data": {
      "text/plain": [
       "joint_NN                        3675\n",
       "elaboration_NS                  3156\n",
       "contrast_NN                     1255\n",
       "attribution_SN                   984\n",
       "interpretation-evaluation_NS     832\n",
       "cause-effect_SN                  748\n",
       "preparation_SN                   738\n",
       "cause-effect_NS                  591\n",
       "sequence_NN                      586\n",
       "same-unit_NN                     556\n",
       "condition_SN                     521\n",
       "purpose_NS                       478\n",
       "attribution_NS                   436\n",
       "condition_NS                     387\n",
       "comparison_NN                    302\n",
       "background_NS                    267\n",
       "evidence_NS                      257\n",
       "solutionhood_SN                  178\n",
       "concession_NS                    129\n",
       "interpretation-evaluation_SN     118\n",
       "restatement_NN                   104\n",
       "purpose_SN                       101\n",
       "Name: relation, dtype: int64"
      ]
     },
     "execution_count": 12,
     "metadata": {},
     "output_type": "execute_result"
    }
   ],
   "source": [
    "train_samples['relation'].value_counts()"
   ]
  },
  {
   "cell_type": "code",
   "execution_count": 13,
   "metadata": {},
   "outputs": [
    {
     "data": {
      "text/plain": [
       "joint_NN                        837\n",
       "elaboration_NS                  709\n",
       "contrast_NN                     318\n",
       "interpretation-evaluation_NS    266\n",
       "sequence_NN                     232\n",
       "preparation_SN                  213\n",
       "attribution_SN                  187\n",
       "cause-effect_SN                 185\n",
       "cause-effect_NS                 172\n",
       "same-unit_NN                    140\n",
       "condition_SN                    122\n",
       "purpose_NS                      100\n",
       "background_NS                    96\n",
       "attribution_NS                   84\n",
       "condition_NS                     71\n",
       "comparison_NN                    59\n",
       "solutionhood_SN                  57\n",
       "evidence_NS                      56\n",
       "concession_NS                    34\n",
       "interpretation-evaluation_SN     31\n",
       "purpose_SN                       18\n",
       "restatement_NN                   16\n",
       "Name: relation, dtype: int64"
      ]
     },
     "execution_count": 13,
     "metadata": {},
     "output_type": "execute_result"
    }
   ],
   "source": [
    "dev_samples['relation'].value_counts()"
   ]
  }
 ],
 "metadata": {
  "accelerator": "GPU",
  "colab": {
   "collapsed_sections": [
    "XL9qxhZeGdB1",
    "EAiXKY8dnxQs",
    "-WGdV8VGcJUt",
    "WNGYIPB0cPdW",
    "WMD4jEJScaFy",
    "9idVoMLIBytW"
   ],
   "name": "experiments_ml.ipynb",
   "provenance": [],
   "version": "0.3.2"
  },
  "kernelspec": {
   "display_name": "Python 3",
   "language": "python",
   "name": "python3"
  },
  "language_info": {
   "codemirror_mode": {
    "name": "ipython",
    "version": 3
   },
   "file_extension": ".py",
   "mimetype": "text/x-python",
   "name": "python",
   "nbconvert_exporter": "python",
   "pygments_lexer": "ipython3",
   "version": "3.7.4"
  }
 },
 "nbformat": 4,
 "nbformat_minor": 1
}
